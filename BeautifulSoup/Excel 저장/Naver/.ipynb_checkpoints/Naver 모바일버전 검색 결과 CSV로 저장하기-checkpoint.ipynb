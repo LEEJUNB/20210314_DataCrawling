{
 "cells": [
  {
   "cell_type": "code",
   "execution_count": 1,
   "metadata": {},
   "outputs": [],
   "source": [
    "import csv\n",
    "from urllib.request import urlopen\n",
    "from urllib.parse import quote_plus\n",
    "from bs4 import BeautifulSoup"
   ]
  },
  {
   "cell_type": "code",
   "execution_count": 2,
   "metadata": {},
   "outputs": [
    {
     "name": "stdout",
     "output_type": "stream",
     "text": [
      "검색어를 입력하세요 : 삼성전자\n"
     ]
    }
   ],
   "source": [
    "search = input('검색어를 입력하세요 : ')\n",
    "url = 'https://m.search.naver.com/search.naver?where=m_view&sm=mtb_jum&query={quote_plus(search)}'"
   ]
  },
  {
   "cell_type": "code",
   "execution_count": 3,
   "metadata": {},
   "outputs": [],
   "source": [
    "html = urlopen(url).read()\n",
    "soup = BeautifulSoup(html, 'html.parser')\n",
    "total = soup.select('.api_txt_lines.total_tit')"
   ]
  },
  {
   "cell_type": "markdown",
   "metadata": {},
   "source": [
    "## 이중리스트로 리스트당 제목, 링크 하나씩 넣기"
   ]
  },
  {
   "cell_type": "code",
   "execution_count": 4,
   "metadata": {},
   "outputs": [
    {
     "name": "stdout",
     "output_type": "stream",
     "text": [
      "['파이썬으로 이미지 크롤링하기!', 'https://m.cafe.naver.com/gubass/22271']\n"
     ]
    }
   ],
   "source": [
    "searchList = []\n",
    "for i in total :\n",
    "    temp = []\n",
    "    temp.append(i.text)\n",
    "    temp.append(i.attrs['href'])\n",
    "    searchList.append(temp)\n",
    "print(searchList[0])"
   ]
  },
  {
   "cell_type": "markdown",
   "metadata": {},
   "source": [
    "## csv 파일로 저장하기"
   ]
  },
  {
   "cell_type": "code",
   "execution_count": 5,
   "metadata": {},
   "outputs": [],
   "source": [
    "# 파일명 : 검색어.csv\n",
    "f = open(f'{search}.csv', 'w', encoding='utf-8', newline='')\n",
    "csvWriter = csv.writer(f)\n",
    "for i in searchList :\n",
    "    csvWriter.writerow(i)\n",
    "f.close()"
   ]
  },
  {
   "cell_type": "code",
   "execution_count": null,
   "metadata": {},
   "outputs": [],
   "source": []
  }
 ],
 "metadata": {
  "kernelspec": {
   "display_name": "Python 3",
   "language": "python",
   "name": "python3"
  },
  "language_info": {
   "codemirror_mode": {
    "name": "ipython",
    "version": 3
   },
   "file_extension": ".py",
   "mimetype": "text/x-python",
   "name": "python",
   "nbconvert_exporter": "python",
   "pygments_lexer": "ipython3",
   "version": "3.8.5"
  }
 },
 "nbformat": 4,
 "nbformat_minor": 4
}
