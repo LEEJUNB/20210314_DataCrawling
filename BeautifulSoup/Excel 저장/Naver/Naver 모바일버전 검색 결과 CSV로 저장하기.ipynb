{
 "cells": [
  {
   "cell_type": "code",
   "execution_count": 25,
   "metadata": {},
   "outputs": [],
   "source": [
    "import csv\n",
    "from urllib.request import urlopen\n",
    "from urllib.parse import quote_plus\n",
    "from bs4 import BeautifulSoup"
   ]
  },
  {
   "cell_type": "code",
   "execution_count": 32,
   "metadata": {},
   "outputs": [
    {
     "name": "stdout",
     "output_type": "stream",
     "text": [
      "검색어를 입력하세요 : 개발자\n"
     ]
    }
   ],
   "source": [
    "search = input('검색어를 입력하세요 : ')\n",
    "# f는 formatting을 의미. f를 빼면 {}은 비어있게 되므로 검색어를 입력해도 무쓸모\n",
    "url = f'https://m.search.naver.com/search.naver?where=m_view&sm=mtb_jum&query={quote_plus(search)}'"
   ]
  },
  {
   "cell_type": "code",
   "execution_count": 27,
   "metadata": {},
   "outputs": [],
   "source": [
    "html = urlopen(url).read()\n",
    "soup = BeautifulSoup(html, 'html.parser')\n",
    "total = soup.select('.api_txt_lines.total_tit')"
   ]
  },
  {
   "cell_type": "markdown",
   "metadata": {},
   "source": [
    "## 이중리스트로 리스트당 제목, 링크 하나씩 넣기"
   ]
  },
  {
   "cell_type": "code",
   "execution_count": 28,
   "metadata": {},
   "outputs": [
    {
     "name": "stdout",
     "output_type": "stream",
     "text": [
      "['네이버 클라우드 및 개발자 취업&채용 준비 (비전공/신입/경력)', 'https://m.blog.naver.com/ridesafe/222316609635']\n"
     ]
    }
   ],
   "source": [
    "searchList = []\n",
    "for i in total :\n",
    "    temp = []\n",
    "    temp.append(i.text)\n",
    "    temp.append(i.attrs['href'])\n",
    "    searchList.append(temp)\n",
    "print(searchList[0])"
   ]
  },
  {
   "cell_type": "markdown",
   "metadata": {},
   "source": [
    "## csv 파일로 저장하기"
   ]
  },
  {
   "cell_type": "code",
   "execution_count": 30,
   "metadata": {},
   "outputs": [],
   "source": [
    "# 파일명 : 검색어.csv\n",
    "f = open(f'{search}.csv', 'w', encoding='utf-8', newline='')\n",
    "csvWriter = csv.writer(f)\n",
    "for i in searchList :\n",
    "    csvWriter.writerow(i)\n",
    "f.close()"
   ]
  }
 ],
 "metadata": {
  "kernelspec": {
   "display_name": "Python 3",
   "language": "python",
   "name": "python3"
  },
  "language_info": {
   "codemirror_mode": {
    "name": "ipython",
    "version": 3
   },
   "file_extension": ".py",
   "mimetype": "text/x-python",
   "name": "python",
   "nbconvert_exporter": "python",
   "pygments_lexer": "ipython3",
   "version": "3.8.5"
  }
 },
 "nbformat": 4,
 "nbformat_minor": 4
}
