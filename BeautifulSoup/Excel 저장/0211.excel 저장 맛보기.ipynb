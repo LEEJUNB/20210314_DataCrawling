{
 "cells": [
  {
   "cell_type": "code",
   "execution_count": 1,
   "metadata": {},
   "outputs": [],
   "source": [
    "# 1. openpyxl 가져오기 \n",
    "import openpyxl\n",
    "# 2. 내가 작업할 Workbook 생성하기 \n",
    "wb = openpyxl.Workbook() \n",
    "# 3. 작업할 Workbook 내 Sheet 활성화 \n",
    "sheet = wb.active \n",
    "# 4. Sheet 내 Cell 선택 (A1셀에 1이라는 값 할당) \n",
    "sheet['A1'] = 1 \n",
    "# 5. 작업 마친 후 파일 저장 (파일명 저장할 때 확장자 - .xlsx 필수 !) \n",
    "wb.save(\"파일명.xlsx\")"
   ]
  },
  {
   "cell_type": "code",
   "execution_count": null,
   "metadata": {},
   "outputs": [],
   "source": []
  }
 ],
 "metadata": {
  "kernelspec": {
   "display_name": "Python 3",
   "language": "python",
   "name": "python3"
  },
  "language_info": {
   "codemirror_mode": {
    "name": "ipython",
    "version": 3
   },
   "file_extension": ".py",
   "mimetype": "text/x-python",
   "name": "python",
   "nbconvert_exporter": "python",
   "pygments_lexer": "ipython3",
   "version": "3.8.3"
  }
 },
 "nbformat": 4,
 "nbformat_minor": 4
}
