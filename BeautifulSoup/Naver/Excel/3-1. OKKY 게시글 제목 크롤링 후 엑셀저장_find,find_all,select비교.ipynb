{
 "cells": [
  {
   "cell_type": "markdown",
   "metadata": {},
   "source": [
    "# 1. 크롤링 설정"
   ]
  },
  {
   "cell_type": "code",
   "execution_count": 1,
   "metadata": {},
   "outputs": [],
   "source": [
    "import requests\n",
    "from bs4 import BeautifulSoup\n",
    "headers = {'User-Agent':'Mozilla/5.0 (Windows NT 6.3; Win64; x64) AppleWebKit/537.36 (KHTML, like Gecko) Chrome/63.0.3239.132 Safari/537.36'}"
   ]
  },
  {
   "cell_type": "markdown",
   "metadata": {},
   "source": [
    "# 2. 엑셀화 설정"
   ]
  },
  {
   "cell_type": "code",
   "execution_count": 2,
   "metadata": {},
   "outputs": [],
   "source": [
    "import openpyxl\n",
    "excel_file = openpyxl.Workbook()\n",
    "excel_sheet = excel_file.active"
   ]
  },
  {
   "cell_type": "markdown",
   "metadata": {},
   "source": [
    "# find, find_all로 찾기\n",
    "- Q-1) #section_body > ul.type06_headline > li > dl > dt > a\n",
    "- Q-1) 위 태그에서 a를 뽑아야 한다. find -> find_all을 통해서 상세하게 추출해야만 한다.\n",
    "- Q-1) 그렇다면 위에서 find함수를 선언할 태그는? ul일까 section일까\n",
    "-  \n",
    "- Q-2) find함수에서 id를 쓰려면? \n",
    "- A-2) id = ''으로 사용하라고 했는데 아닌 것 같다\n",
    "-  \n",
    "- Q-3) find, find_all함수의 변수 타입은?\n",
    "- A-3) find는 bs4.element.Tag이며 find_all은 bs4.element.ResultSet이다."
   ]
  },
  {
   "cell_type": "markdown",
   "metadata": {},
   "source": [
    "# select로 찾기\n",
    "- New) 다른 사이트를 뽑아보자. 무엇이 잘못된 것인지 파악해보자"
   ]
  },
  {
   "cell_type": "markdown",
   "metadata": {},
   "source": [
    "# OKKY 사이트 게시글 크롤링\n",
    "## 대상 : 1~3페이지까지"
   ]
  },
  {
   "cell_type": "code",
   "execution_count": 17,
   "metadata": {},
   "outputs": [],
   "source": [
    "# 크롤링 대상은 하단 이미지\n",
    "from IPython.display import Image\n",
    "# 가져올 부분의 copy seletor #list-article > div.panel.panel-default > ul > li > div.list-title-wrapper.clearfix > h5 > a\n",
    "Image(\"img/파일명.확장자명\")"
   ]
  },
  {
   "cell_type": "code",
   "execution_count": 14,
   "metadata": {},
   "outputs": [
    {
     "name": "stdout",
     "output_type": "stream",
     "text": [
      "크롬OS, 맥OS 제쳤다....PC용 OS 점유율 2위\n",
      "(02/20) '패배자같은 개발 직무' 탈출법\n",
      "AWS 시스템 매니저로 관리형 EC2 인스턴스에 연결하기\n",
      "github 스카이라인\n",
      "스프링 사이트(spring.io)를 로컬에서 실행하기\n",
      "spring boot 로컬에서 smtp mail 테스트하기\n",
      "IoT디바이스를 위한 다양한 프레임워크/OS 소개!\n",
      "[링크] 개발자가 처음 Docker 접할때 오는 멘붕 몇가지\n",
      "Noticon 프로젝트 리뷰 - 돈 한 푼 안들이고 서비스를 운영하기 위한 노력\n",
      "리액트 json으로 일부만 추출하기\n",
      "Jenkins + Docker + AWS EC2 + Spring Boot\n",
      "코딩 플레이그라운드 만들며 맛보는 요즘 FE 개발 환경 Part 1\n",
      "윤년인지 확인하는 JS\n",
      "Bounded Context 어떻게 식별할 것 인가?\n",
      "(02/13) 라인개발자들이 직접 뽑은 인생 책은?\n",
      "maven central에 artifact 업로드\n",
      "깃헙 1초만에 VS Code로 보는 법\n",
      "개발언어 Rust 가 Rust 재단으로 독립 / AWS, 화웨이, 구글, 마소, 모질라에서 지원\n",
      "[iOS] WKWebView에서 Native <-> Javascript간 Communication개선\n",
      "프로그램 소스에 비번, API키 등의 하드코딩 피하는 법 #환경변수\n",
      "스프링 부트에서 모든 메시지 코드 가져오기\n",
      "WebUtils.getNativeRequest 요청 래팽 해제\n",
      "message.properties → *.json 변환하여 프론트 프로젝트에 넣기. (gradle)\n",
      "DDD 아는 척 해보기\n",
      "도커 기초 명령어 #스프링부트\n",
      "7년 차 SI 개발자가 솔루션 회사 이직 후 2년 간 배운 것\n",
      "logback 5분 마다 logfile 생성하기\n",
      "Garuda Linux\n",
      "MySQL 8.0 맥에 설치하기 #DBeaver\n",
      "스프링 부트 애플리케이션을 Vue와 함께 개발하기\n",
      "tabulator VS dataTable 비교해본 결과\n",
      "spring에서 fcm (firebase cloud messaging) push 보내기.\n",
      "DD-Sketch 소개\n",
      "Software Design 역사로 이해하는 DDD\n",
      "리눅스 배포판 선택을 도와주는 서비스\n",
      "(01/30) 정말로 당신에게 다른 동영상 강의가 필요할까?\n",
      "[영상] 스프링 부트 MyBatis\n",
      "TOAST UI Chart 4.0이 출시되었습니다.\n",
      "JWT Token를 spring security에서 손쉽게 검증하기 위한 방법\n",
      "페도라 OS 브라우저 책임자 \"크롬 대신 파이어폭스 써라\"\n",
      "Software Architecture 역사로 이해하는 MSA\n",
      "[JS] 한글도 지원하는 퍼지 문자열 검색\n",
      "애플에서 한국에 코딩 아카데미 설립한다고 하네요\n",
      "테크 뉴스를 편하게 보는 방법\n",
      "(01/22) 프론트엔드 성능 점검 항목 – 2021 버전\n",
      "React 불필요한 렌더링을 막는 방법\n",
      "라즈베리파이, 아두이노 경쟁작 '피코' 출시\n",
      "최근 Elasticsearch 유료화 이슈 대응\n",
      "가상화 및 하이퍼바이저 간단 개념 소개.\n",
      "삼성 엑시노스 컴퓨터 나오나?\n",
      "MSA 도입 평가 체크리스트\n",
      "스프링 부트 DB 트랜잭션\n",
      "태블릿 기반의 리눅스 배포판 - JingOS\n",
      "스프링 부트 자동 재시작 설정하기 #개발모드\n",
      "State of js 2020: 프론트엔드 프레임워크 이야기\n",
      "메일 서버와 스팸 서버 구축\n",
      "2020 떠오른 자바스크립트 프로젝트 랭킹\n",
      "무제한 무료 프론트엔드 코드 저장소\n",
      "(01/16) 마이크로서비스 도입, 이렇게 한다\n",
      "JPA 연관 관계를 명시(사용)하는 이유는 무엇일까?(불일치패러다임설명하는 글이 아닙니다...)\n"
     ]
    }
   ],
   "source": [
    "for index in range(0,60,20): # 0 ~ 40까지, 20씩 증가\n",
    "    res = requests.get(\"https://okky.kr/articles/tech?offset=\"+ str(index)+\"&max=20&sort=id&order=desc\",headers=headers)\n",
    "    soup = BeautifulSoup(res.content,\"html.parser\")\n",
    "    # 가져올 부분의 copy seletor #list-article > div.panel.panel-default > ul > li > div.list-title-wrapper.clearfix > h5 > a\n",
    "    allData = soup.select('#list-article > div.panel.panel-default > ul > li > div.list-title-wrapper.clearfix > h5 > a')\n",
    "    for item in allData : \n",
    "        print(item.get_text().strip())"
   ]
  },
  {
   "cell_type": "markdown",
   "metadata": {},
   "source": [
    "## 위 내용을 엑셀파일로 정리하기"
   ]
  },
  {
   "cell_type": "code",
   "execution_count": 15,
   "metadata": {},
   "outputs": [],
   "source": [
    "for index in range(0,60,20): # 0 ~ 40까지, 20씩 증가\n",
    "    res = requests.get(\"https://okky.kr/articles/tech?offset=\"+ str(index)+\"&max=20&sort=id&order=desc\",headers=headers)\n",
    "    soup = BeautifulSoup(res.content,\"html.parser\")\n",
    "    # 가져올 부분의 copy seletor #list-article > div.panel.panel-default > ul > li > div.list-title-wrapper.clearfix > h5 > a\n",
    "    allData = soup.select('#list-article > div.panel.panel-default > ul > li > div.list-title-wrapper.clearfix > h5 > a')\n",
    "    for item in allData : \n",
    "        #print(item.get_text().strip())\n",
    "        excel_sheet.append([item.get_text()])\n",
    "excel_file.save('Okky.xlsx')\n",
    "excel_file.close()"
   ]
  },
  {
   "cell_type": "code",
   "execution_count": null,
   "metadata": {},
   "outputs": [],
   "source": []
  }
 ],
 "metadata": {
  "kernelspec": {
   "display_name": "Python 3",
   "language": "python",
   "name": "python3"
  },
  "language_info": {
   "codemirror_mode": {
    "name": "ipython",
    "version": 3
   },
   "file_extension": ".py",
   "mimetype": "text/x-python",
   "name": "python",
   "nbconvert_exporter": "python",
   "pygments_lexer": "ipython3",
   "version": "3.8.3"
  }
 },
 "nbformat": 4,
 "nbformat_minor": 2
}
