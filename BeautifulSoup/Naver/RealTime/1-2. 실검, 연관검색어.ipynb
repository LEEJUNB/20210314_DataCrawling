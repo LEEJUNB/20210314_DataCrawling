{
 "cells": [
  {
   "cell_type": "code",
   "execution_count": 1,
   "metadata": {},
   "outputs": [],
   "source": [
    "import requests"
   ]
  },
  {
   "cell_type": "code",
   "execution_count": 2,
   "metadata": {},
   "outputs": [],
   "source": [
    "from bs4 import BeautifulSoup\n",
    "headers = {'User-Agent':'Mozilla/5.0 (Windows NT 6.3; Win64; x64) AppleWebKit/537.36 (KHTML, like Gecko) Chrome/63.0.3239.132 Safari/537.36'}\n",
    "url = 'https://datalab.naver.com/keyword/realtimeList.naver?where=main'"
   ]
  },
  {
   "cell_type": "code",
   "execution_count": 3,
   "metadata": {},
   "outputs": [],
   "source": [
    "res = requests.get(url,headers=headers)"
   ]
  },
  {
   "cell_type": "code",
   "execution_count": 4,
   "metadata": {},
   "outputs": [],
   "source": [
    "soup = BeautifulSoup(res.content,'html.parser')"
   ]
  },
  {
   "cell_type": "code",
   "execution_count": 5,
   "metadata": {},
   "outputs": [],
   "source": [
    "# mydata = soup.find_all('span', attrs={'class' :'link_issue', 'tabindex' : '-1'})\n",
    "mydata = soup.find_all('span','item_title_wrap')"
   ]
  },
  {
   "cell_type": "code",
   "execution_count": 6,
   "metadata": {},
   "outputs": [
    {
     "name": "stdout",
     "output_type": "stream",
     "text": [
      "\n",
      "광주 tcs국제학교\n",
      "\n",
      "\n",
      "광주 코로나\n",
      "\n",
      "                                    광주 코로나 확진자\n",
      "                                \n",
      "\n",
      "\n",
      "김예령 나이\n",
      "\n",
      "                                    김예령\n",
      "                                \n",
      "\n",
      "\n",
      "기아 윤석민\n",
      "\n",
      "                                    윤석민, \n",
      "                                    윤석민 연봉\n",
      "                                \n",
      "\n",
      "\n",
      "윤석민와이프\n",
      "\n",
      "                                    김예령 딸, \n",
      "                                    김예령 윤석민\n",
      "                                \n",
      "\n",
      "\n",
      "원서동\n",
      "\n",
      "\n",
      "윤석민장모\n",
      "\n",
      "\n",
      "최다빈\n",
      "\n",
      "\n",
      "밀정\n",
      "\n",
      "\n",
      "한그루\n",
      "\n",
      "\n",
      "김수현\n",
      "\n",
      "\n",
      "배성재\n",
      "\n",
      "\n",
      "김예령 엄마\n",
      "\n",
      "\n",
      "박은석 강아지\n",
      "\n",
      "\n",
      "로운 키\n",
      "\n",
      "\n",
      "pd수첩\n",
      "\n",
      "\n",
      "조재현\n",
      "\n",
      "\n",
      "배틀쉽\n",
      "\n",
      "\n",
      "이시원\n",
      "\n",
      "\n",
      "임성훈\n",
      "\n"
     ]
    }
   ],
   "source": [
    "for item in range(len(mydata)) :\n",
    "    new_N = mydata[item].get_text()\n",
    "    print(new_N)"
   ]
  }
 ],
 "metadata": {
  "kernelspec": {
   "display_name": "Python 3",
   "language": "python",
   "name": "python3"
  },
  "language_info": {
   "codemirror_mode": {
    "name": "ipython",
    "version": 3
   },
   "file_extension": ".py",
   "mimetype": "text/x-python",
   "name": "python",
   "nbconvert_exporter": "python",
   "pygments_lexer": "ipython3",
   "version": "3.8.3"
  }
 },
 "nbformat": 4,
 "nbformat_minor": 2
}
