{
 "cells": [
  {
   "cell_type": "code",
   "execution_count": 1,
   "metadata": {},
   "outputs": [],
   "source": [
    "import requests"
   ]
  },
  {
   "cell_type": "code",
   "execution_count": 2,
   "metadata": {},
   "outputs": [],
   "source": [
    "from bs4 import BeautifulSoup"
   ]
  },
  {
   "cell_type": "code",
   "execution_count": 3,
   "metadata": {},
   "outputs": [],
   "source": [
    "res = requests.get('https://news.v.daum.net/v/20200223174151496')"
   ]
  },
  {
   "cell_type": "code",
   "execution_count": 4,
   "metadata": {},
   "outputs": [],
   "source": [
    "soup = BeautifulSoup(res.content, 'html.parser')"
   ]
  },
  {
   "cell_type": "code",
   "execution_count": 5,
   "metadata": {},
   "outputs": [],
   "source": [
    "mydata = soup.find_all('span', 'txt_info') # class_ = 'tit_view', 리스트형태로 되어있다"
   ]
  },
  {
   "cell_type": "code",
   "execution_count": 6,
   "metadata": {},
   "outputs": [
    {
     "name": "stdout",
     "output_type": "stream",
     "text": [
      "최동순\n",
      "입력 2020. 02. 23. 17:41\n",
      "수정 2020. 02. 23. 21:28\n"
     ]
    }
   ],
   "source": [
    "for item in mydata : # 리스트 형태를 뽑기 위함\n",
    "    print (item.get_text()) # mydata[0].get_text(), mydata[1].get_text(), ... "
   ]
  },
  {
   "cell_type": "markdown",
   "metadata": {},
   "source": [
    "### 문제를 풀어보자\n",
    "<div class=\"layer_util layer_summary\"> \n",
    "          <p>차량이 긁힌 정도의 경미한 교통사고라고 해도 차에서 내려 상태를 확인하는 식의 사후 조치를 하지 않았다면 '뺑소니'로 처벌 받을 수 있다는 대법원 판결이 나왔다.</p>\n",
    "          <p>대법원 1부(주심 이기택 대법관)는 도로교통법상 사고후 미조치 등 혐의로 기소된 황모씨에게 일부 무죄를 선고한 원심을 깨고 사건을 춘천지법 강릉지원으로 돌려보냈다고 23일 밝혔다.</p> \n",
    "          <span class=\"info_summary\"><span class=\"ico_newsview\"></span>기사 제목과 주요 문장을 기반으로 자동요약한 결과입니다. 전체 맥락을 이해하기 위해서는 본문 보기를 권장합니다.</span> \n",
    "</div> \n",
    "\n",
    "### 위와 html에서 p태그 문 전부를 뽑아보자 어떻게 해야할까?\n",
    "- p태그만을 뽑아주기엔 p태그가 이 코드 말고도 수도 없이 많이 쓰여있다.\n",
    "- 그럼 클래스를 써야하는데 클래스가 없다\n",
    "- p태그를 감싸고 있는 상단태그의 클래스를 사용하자\n",
    "- 그런데 상단태그의 클래스는 띄워쓰기를 통해 2개를 썼다"
   ]
  },
  {
   "cell_type": "code",
   "execution_count": 7,
   "metadata": {},
   "outputs": [],
   "source": [
    "mydata = soup.find('div','layer_util layer_summary') # find_all이 아닌 이유는 이 안에 한번에 다 있기 때문"
   ]
  },
  {
   "cell_type": "markdown",
   "metadata": {},
   "source": [
    "# 태그지우기 : string() 그리고 get_text()"
   ]
  },
  {
   "cell_type": "code",
   "execution_count": 8,
   "metadata": {},
   "outputs": [
    {
     "data": {
      "text/plain": [
       "\"\\n차량이 긁힌 정도의 경미한 교통사고라고 해도 차에서 내려 상태를 확인하는 식의 사후 조치를 하지 않았다면 '뺑소니'로 처벌 받을 수 있다는 대법원 판결이 나왔다.\\n대법원 1부(주심 이기택 대법관)는 도로교통법상 사고후 미조치 등 혐의로 기소된 황모씨에게 일부 무죄를 선고한 원심을 깨고 사건을 춘천지법 강릉지원으로 돌려보냈다고 23일 밝혔다. 기사 제목과 주요 문장을 기반으로 자동요약한 결과입니다. 전체 맥락을 이해하기 위해서는 본문 보기를 권장합니다.\\n\""
      ]
     },
     "execution_count": 8,
     "metadata": {},
     "output_type": "execute_result"
    }
   ],
   "source": [
    "mydata.get_text() # 여기선 mydata.string이 안먹힌다. 고로 get_text()를 사용한다"
   ]
  },
  {
   "cell_type": "code",
   "execution_count": null,
   "metadata": {},
   "outputs": [],
   "source": []
  }
 ],
 "metadata": {
  "kernelspec": {
   "display_name": "Python 3",
   "language": "python",
   "name": "python3"
  },
  "language_info": {
   "codemirror_mode": {
    "name": "ipython",
    "version": 3
   },
   "file_extension": ".py",
   "mimetype": "text/x-python",
   "name": "python",
   "nbconvert_exporter": "python",
   "pygments_lexer": "ipython3",
   "version": "3.8.3"
  }
 },
 "nbformat": 4,
 "nbformat_minor": 2
}
