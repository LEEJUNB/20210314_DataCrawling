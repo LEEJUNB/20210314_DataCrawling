{
 "cells": [
  {
   "cell_type": "code",
   "execution_count": null,
   "metadata": {},
   "outputs": [],
   "source": [
    "import requests, openpyxl\n",
    "excel_file = openpyxl.Workbook()\n",
    "excel_sheet = excel_file.active\n",
    "excel_sheet.title = 'report'\n",
    "excel_sheet.append(['순위','상품명','판매가격','링크'])\n",
    "excel_sheet.column_dimensions['B'].width = 80\n",
    "excel_sheet.column_dimensions['C'].width = 30\n",
    "excel_sheet.column_dimensions['D'].width = 100\n",
    "#\n",
    "from bs4 import BeautifulSoup\n",
    "res = requests.get('https://search.shopping.naver.com/best100v2/detail.nhn?catId=50000003')\n",
    "if res.status_code != 200:\n",
    "    print('페이지 없음')\n",
    "else:\n",
    "    soup = BeautifulSoup(res.content, 'html.parser')\n",
    "    data = soup.select('#productListArea > ul > li')\n",
    "    for index, item in enumerate(data):\n",
    "        title = item.select_one('p > a')\n",
    "        price = item.select_one('div.price > strong > span.num')\n",
    "        print(index+1, title.get_text(), price.get_text(), title['href'])\n",
    "        excel_sheet.append([index+1, title.get_text(), price.get_text(), title['href']])\n",
    "        excel_sheet.cell(row=index+2, column=4).hyperlink = title['href'] # 하이퍼링크 달기\n",
    "#\n",
    "excel_sheet['A1'].alignment = openpyxl.styles.Alignment(horizontal='center') # 순위 셀 가운데 정렬\n",
    "#\n",
    "excel_file.save('BESTPRODUCT_NAVER.xlsx')\n",
    "excel_file.close()"
   ]
  }
 ],
 "metadata": {
  "kernelspec": {
   "display_name": "Python 3",
   "language": "python",
   "name": "python3"
  },
  "language_info": {
   "codemirror_mode": {
    "name": "ipython",
    "version": 3
   },
   "file_extension": ".py",
   "mimetype": "text/x-python",
   "name": "python",
   "nbconvert_exporter": "python",
   "pygments_lexer": "ipython3",
   "version": "3.8.5"
  }
 },
 "nbformat": 4,
 "nbformat_minor": 4
}
