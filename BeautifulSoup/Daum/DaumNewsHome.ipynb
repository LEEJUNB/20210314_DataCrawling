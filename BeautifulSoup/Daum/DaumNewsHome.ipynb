{
 "cells": [
  {
   "cell_type": "markdown",
   "metadata": {},
   "source": [
    "## 보완할 점\n",
    "- 각 메인 뉴스와 연관된 뉴스기사를 하단에 만들기\n",
    "- 서브 기사만 안 읽혀짐. \n",
    "-- title에는 'NoneType' object has no attribute 'text' 오류 발생\n",
    "-- link에는 'NoneType' object is not subscriptable"
   ]
  },
  {
   "cell_type": "code",
   "execution_count": 24,
   "metadata": {},
   "outputs": [],
   "source": [
    "import requests, openpyxl\n",
    "excel_file = openpyxl.Workbook()\n",
    "excel_sheet = excel_file.active\n",
    "excel_sheet.title = 'report'\n",
    "excel_sheet.append(['순서','제목','링크','언론사'])\n",
    "excel_sheet.column_dimensions['A'].width = 5\n",
    "excel_sheet.column_dimensions['B'].width = 50\n",
    "excel_sheet.column_dimensions['C'].width = 50\n",
    "excel_sheet.column_dimensions['D'].width = 10\n",
    "\n",
    "from bs4 import BeautifulSoup\n",
    "import datetime\n",
    "\n",
    "dt_now = datetime.datetime.now()\n",
    "time = dt_now.date()\n",
    "\n",
    "num = 0"
   ]
  },
  {
   "cell_type": "code",
   "execution_count": 38,
   "metadata": {},
   "outputs": [
    {
     "name": "stdout",
     "output_type": "stream",
     "text": [
      "93 유럽 곳곳서 팔레스타인 연대 집회..일부 경찰과 충돌 https://news.v.daum.net/v/20210516000015880 연합뉴스 \n",
      "94 윤희숙 \"여당 女의원이 '너도 여성이라 의원 됐나' 공격\" https://news.v.daum.net/v/20210515204729059 뉴시스 \n",
      "95 CCTV없는 42분 행적.. '한강 대학생 사건' 실체 규명 앞 난제들 https://news.v.daum.net/v/20210515201509741 한국일보 \n",
      "96 가상자산 들었다 놨다, 머스크의 '입' 법적 문제 없나 https://news.v.daum.net/v/20210515200021551 오마이뉴스 \n",
      "97 윤희숙 \"'너도 여자라 국회의원 됐냐'..여당 女의원이 공격\" https://news.v.daum.net/v/20210515192335122 오마이뉴스 \n",
      "98 \"여자라 국회의원 됐냐\"..문정복 저격에 윤희숙 '발끈' https://news.v.daum.net/v/20210515161533162 오마이뉴스 \n",
      "99 '정민씨 사건' 사라진 40분..CCTV·블박 '스모킹건' 될까 https://news.v.daum.net/v/20210515192103101 오마이뉴스 \n",
      "100 '정민씨 사인은 익사' 경찰 발표에..승재현 \"다시 복잡한 사건 됐다\" https://news.v.daum.net/v/20210515140017766 오마이뉴스 \n"
     ]
    },
    {
     "ename": "TypeError",
     "evalue": "'NoneType' object is not subscriptable",
     "output_type": "error",
     "traceback": [
      "\u001b[1;31m---------------------------------------------------------------------------\u001b[0m",
      "\u001b[1;31mTypeError\u001b[0m                                 Traceback (most recent call last)",
      "\u001b[1;32m<ipython-input-38-1d94f8b8c1b9>\u001b[0m in \u001b[0;36m<module>\u001b[1;34m\u001b[0m\n\u001b[0;32m     40\u001b[0m             \u001b[0mtitle\u001b[0m \u001b[1;33m=\u001b[0m \u001b[0mitem\u001b[0m\u001b[1;33m.\u001b[0m\u001b[0mselect_one\u001b[0m\u001b[1;33m(\u001b[0m\u001b[1;34m'.tit_g > a'\u001b[0m\u001b[1;33m)\u001b[0m\u001b[1;33m\u001b[0m\u001b[1;33m\u001b[0m\u001b[0m\n\u001b[0;32m     41\u001b[0m \u001b[1;33m\u001b[0m\u001b[0m\n\u001b[1;32m---> 42\u001b[1;33m         \u001b[0mlink\u001b[0m \u001b[1;33m=\u001b[0m \u001b[0mitem\u001b[0m\u001b[1;33m.\u001b[0m\u001b[0mselect_one\u001b[0m\u001b[1;33m(\u001b[0m\u001b[1;34m'.tit_g > a'\u001b[0m\u001b[1;33m)\u001b[0m\u001b[1;33m[\u001b[0m\u001b[1;34m\"href\"\u001b[0m\u001b[1;33m]\u001b[0m\u001b[1;33m\u001b[0m\u001b[1;33m\u001b[0m\u001b[0m\n\u001b[0m\u001b[0;32m     43\u001b[0m         \u001b[1;31m# media = item.select_one('.info_news')\u001b[0m\u001b[1;33m\u001b[0m\u001b[1;33m\u001b[0m\u001b[1;33m\u001b[0m\u001b[0m\n\u001b[0;32m     44\u001b[0m         \u001b[0mexp\u001b[0m \u001b[1;33m=\u001b[0m \u001b[1;34m''\u001b[0m\u001b[1;33m\u001b[0m\u001b[1;33m\u001b[0m\u001b[0m\n",
      "\u001b[1;31mTypeError\u001b[0m: 'NoneType' object is not subscriptable"
     ]
    }
   ],
   "source": [
    "res = requests.get('https://news.daum.net/')\n",
    "if res.status_code != 200:\n",
    "    print('페이지 없음')\n",
    "else:\n",
    "    soup = BeautifulSoup(res.content, 'html.parser')\n",
    "    mainData = soup.select('.item_issue')\n",
    "    connData = soup.select('.thumb_relate')\n",
    "    subData = soup.select('#mArticle')\n",
    "    \n",
    "    # 메인기사\n",
    "    for item in mainData:\n",
    "        title = item.select_one('.tit_thumb > a').text\n",
    "        link = item.select_one('.item_issue > a')[\"href\"]\n",
    "        media = item.select_one('.info_thumb').text\n",
    "        # exp = item.select_one('.detail_thumb').text\n",
    "        num = num + 1\n",
    "        print(num, title, link, media, exp ) # 순위, 제목, 링크, 언론사, 설명  미리 출력해보기\n",
    "        \n",
    "        excel_sheet.append([num, title, link, media, exp]) # 순위, 날짜, 제목, 링크, 설명\n",
    "        excel_sheet.cell(row=num+1, column=3).hyperlink = link # 하이퍼링크 달기\n",
    "    \n",
    "    # 연관기사\n",
    "    for item in connData :\n",
    "        title = item.select_one('.thumb_relate > a').text\n",
    "        link = item.select_one('.thumb_relate > a')[\"href\"]\n",
    "        # media = item.select_one('.info_news')\n",
    "        exp = ''\n",
    "        num = num + 1\n",
    "        print(num, title, link, media, exp ) # 순위, 제목, 링크, 언론사, 설명  미리 출력해보기\n",
    "        \n",
    "        excel_sheet.append([num, title, link, media, exp]) # 순위, 날짜, 제목, 링크, 설명\n",
    "        excel_sheet.cell(row=num+1, column=3).hyperlink = link # 하이퍼링크 달기. 현재 링크는 3번째 칼럼\n",
    "\n",
    "        \n",
    "    # 서브기사\n",
    "    for item in connData : # 연관기사가 존재한다면\n",
    "        try:\n",
    "            title = item.select_one('.tit_g > a').text()\n",
    "        except :\n",
    "            title = item.select_one('.tit_g > a')\n",
    "        \n",
    "        link = item.select_one('.tit_g > a')[\"href\"]\n",
    "        # media = item.select_one('.info_news')\n",
    "        exp = ''\n",
    "        num = num + 1\n",
    "        print(num, title, link, media, exp ) # 순위, 제목, 링크, 언론사, 설명  미리 출력해보기\n",
    "\n",
    "        excel_sheet.append([num, title, link, media, exp]) # 순위, 날짜, 제목, 링크, 설명\n",
    "        excel_sheet.cell(row=num+1, column=3).hyperlink = link # 하이퍼링크 달기. 현재 링크는 3번째 칼럼\n",
    "        \n",
    "# 파일 저장\n",
    "excel_sheet['A1'].alignment = openpyxl.styles.Alignment(horizontal='center') # 순위 셀 가운데 정렬\n",
    "excel_file.save('[' + str(time) + ']'+' 다음홈뉴스.xlsx')\n",
    "excel_file.close()"
   ]
  },
  {
   "cell_type": "code",
   "execution_count": null,
   "metadata": {},
   "outputs": [],
   "source": []
  }
 ],
 "metadata": {
  "kernelspec": {
   "display_name": "Python 3",
   "language": "python",
   "name": "python3"
  },
  "language_info": {
   "codemirror_mode": {
    "name": "ipython",
    "version": 3
   },
   "file_extension": ".py",
   "mimetype": "text/x-python",
   "name": "python",
   "nbconvert_exporter": "python",
   "pygments_lexer": "ipython3",
   "version": "3.8.5"
  }
 },
 "nbformat": 4,
 "nbformat_minor": 4
}
