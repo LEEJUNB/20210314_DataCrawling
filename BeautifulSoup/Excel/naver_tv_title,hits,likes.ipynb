{
 "cells": [
  {
   "cell_type": "code",
   "execution_count": 10,
   "metadata": {},
   "outputs": [],
   "source": [
    "import requests \n",
    "from bs4 import BeautifulSoup \n",
    "import openpyxl"
   ]
  },
  {
   "cell_type": "code",
   "execution_count": 11,
   "metadata": {},
   "outputs": [],
   "source": [
    "wb = openpyxl.Workbook() \n",
    "sheet = wb.active\n",
    "sheet.append([\"제목\", \"채널명\", \"조회수\", \"좋아요수\"])"
   ]
  },
  {
   "cell_type": "code",
   "execution_count": 1,
   "metadata": {},
   "outputs": [
    {
     "name": "stdout",
     "output_type": "stream",
     "text": [
      "Requirement already satisfied: IPython in c:\\users\\topgu\\anaconda3\\lib\\site-packages (7.16.1)\n",
      "Requirement already satisfied: jedi>=0.10 in c:\\users\\topgu\\anaconda3\\lib\\site-packages (from IPython) (0.17.1)\n",
      "Requirement already satisfied: colorama; sys_platform == \"win32\" in c:\\users\\topgu\\anaconda3\\lib\\site-packages (from IPython) (0.4.3)\n",
      "Requirement already satisfied: prompt-toolkit!=3.0.0,!=3.0.1,<3.1.0,>=2.0.0 in c:\\users\\topgu\\anaconda3\\lib\\site-packages (from IPython) (3.0.5)\n",
      "Requirement already satisfied: traitlets>=4.2 in c:\\users\\topgu\\anaconda3\\lib\\site-packages (from IPython) (4.3.3)\n",
      "Requirement already satisfied: decorator in c:\\users\\topgu\\anaconda3\\lib\\site-packages (from IPython) (4.4.2)\n",
      "Requirement already satisfied: backcall in c:\\users\\topgu\\anaconda3\\lib\\site-packages (from IPython) (0.2.0)\n",
      "Requirement already satisfied: setuptools>=18.5 in c:\\users\\topgu\\anaconda3\\lib\\site-packages (from IPython) (49.2.0.post20200714)\n",
      "Requirement already satisfied: pickleshare in c:\\users\\topgu\\anaconda3\\lib\\site-packages (from IPython) (0.7.5)\n",
      "Requirement already satisfied: pygments in c:\\users\\topgu\\anaconda3\\lib\\site-packages (from IPython) (2.6.1)\n",
      "Requirement already satisfied: parso<0.8.0,>=0.7.0 in c:\\users\\topgu\\anaconda3\\lib\\site-packages (from jedi>=0.10->IPython) (0.7.0)\n",
      "Requirement already satisfied: wcwidth in c:\\users\\topgu\\anaconda3\\lib\\site-packages (from prompt-toolkit!=3.0.0,!=3.0.1,<3.1.0,>=2.0.0->IPython) (0.2.5)\n",
      "Requirement already satisfied: ipython-genutils in c:\\users\\topgu\\anaconda3\\lib\\site-packages (from traitlets>=4.2->IPython) (0.2.0)\n",
      "Requirement already satisfied: six in c:\\users\\topgu\\anaconda3\\lib\\site-packages (from traitlets>=4.2->IPython) (1.15.0)\n"
     ]
    }
   ],
   "source": [
    "!pip install IPython"
   ]
  },
  {
   "cell_type": "code",
   "execution_count": 2,
   "metadata": {},
   "outputs": [],
   "source": [
    "from IPython.display import Image"
   ]
  },
  {
   "cell_type": "code",
   "execution_count": 3,
   "metadata": {},
   "outputs": [
    {
     "ename": "SyntaxError",
     "evalue": "(unicode error) 'unicodeescape' codec can't decode bytes in position 12-13: truncated \\UXXXXXXXX escape (<ipython-input-3-22173adf3d56>, line 1)",
     "output_type": "error",
     "traceback": [
      "\u001b[1;36m  File \u001b[1;32m\"<ipython-input-3-22173adf3d56>\"\u001b[1;36m, line \u001b[1;32m1\u001b[0m\n\u001b[1;33m    Image(\"‪C:\\Users\\topgu\\Downloads\\Kalmuri\\K-241.jpg\")\u001b[0m\n\u001b[1;37m          ^\u001b[0m\n\u001b[1;31mSyntaxError\u001b[0m\u001b[1;31m:\u001b[0m (unicode error) 'unicodeescape' codec can't decode bytes in position 12-13: truncated \\UXXXXXXXX escape\n"
     ]
    }
   ],
   "source": [
    "Image(\"‪C:\\Users\\topgu\\Downloads\\Kalmuri\\K-241.jpg\")"
   ]
  },
  {
   "cell_type": "code",
   "execution_count": 15,
   "metadata": {},
   "outputs": [],
   "source": [
    "raw = requests.get(\"https://tv.naver.com/r\") \n",
    "html = BeautifulSoup(raw.text, 'html.parser')\n",
    "# div.inner : top 1~3의 각 제목,채널,조회수,좋아요수를 포괄\n",
    "container = html.select(\"div.inner\") # top 1~3\n",
    "# div.cds : rank 4~*의 제목,채널,조회수,좋아요수 모두 포괄\n",
    "container2 = html.select(\"div.cds\") # 4 ~ *"
   ]
  },
  {
   "cell_type": "code",
   "execution_count": 16,
   "metadata": {},
   "outputs": [],
   "source": [
    "# rank top 1~3\n",
    "for con in container:\n",
    "    t = con.select_one(\"strong.tit\").text.strip() #제목 \n",
    "    c = con.select_one(\"dd.chn\").text.strip() #채널 \n",
    "    h = con.select_one(\"span.hit\").text.strip() #조회수 \n",
    "    l = con.select_one(\"span.like\").text.strip() #좋아요수 \n",
    "    \n",
    "    # sheet 내 각 행에 데이터 추가 \n",
    "    sheet.append([t, c, h, l])\n",
    "\n",
    "# rank 4 ~ *\n",
    "for con in container2 :\n",
    "    t = con.select_one(\"dt.title\").text.strip() #제목 \n",
    "    c = con.select_one(\"dd.chn\").text.strip() #채널 \n",
    "    h = con.select_one(\"span.hit\").text.strip() #조회수 \n",
    "    l = con.select_one(\"span.like\").text.strip() #좋아요수 \n",
    "    \n",
    "    # sheet 내 각 행에 데이터 추가 \n",
    "    sheet.append([t, c, h, l])\n",
    "\n",
    "wb.save('naver_tv.xlsx')"
   ]
  },
  {
   "cell_type": "code",
   "execution_count": null,
   "metadata": {},
   "outputs": [],
   "source": []
  }
 ],
 "metadata": {
  "kernelspec": {
   "display_name": "Python 3",
   "language": "python",
   "name": "python3"
  },
  "language_info": {
   "codemirror_mode": {
    "name": "ipython",
    "version": 3
   },
   "file_extension": ".py",
   "mimetype": "text/x-python",
   "name": "python",
   "nbconvert_exporter": "python",
   "pygments_lexer": "ipython3",
   "version": "3.8.3"
  }
 },
 "nbformat": 4,
 "nbformat_minor": 4
}
