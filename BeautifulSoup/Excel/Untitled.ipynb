{
 "cells": [
  {
   "cell_type": "code",
   "execution_count": 5,
   "metadata": {},
   "outputs": [],
   "source": [
    "import requests \n",
    "from bs4 import BeautifulSoup \n",
    "import openpyxl"
   ]
  },
  {
   "cell_type": "code",
   "execution_count": 6,
   "metadata": {},
   "outputs": [],
   "source": [
    "wb = openpyxl.Workbook() \n",
    "sheet = wb.active\n",
    "sheet.append([\"번호\", \"문제명\"])"
   ]
  },
  {
   "cell_type": "code",
   "execution_count": 9,
   "metadata": {},
   "outputs": [],
   "source": [
    "raw = requests.get(\"https://tv.naver.com/r\") \n",
    "html = BeautifulSoup(raw.text, 'html.parser')\n",
    "# container 변수 : 공통적으로 각 번호, 문제명을 포함하는 것\n",
    "container = html.select(\"#problemset > tbody > tr\") "
   ]
  },
  {
   "cell_type": "code",
   "execution_count": 10,
   "metadata": {},
   "outputs": [],
   "source": [
    "for con in container:\n",
    "    c = con.select_one(\"div.center\").text.strip() # 번호\n",
    "    l = con.select_one(\"div.left\").text.strip() # 문제명\n",
    "    \n",
    "    # sheet 내 각 행에 데이터 추가 \n",
    "    sheet.append([c, l])\n",
    "    \n",
    "wb.save('CodeUp.xlsx')"
   ]
  },
  {
   "cell_type": "code",
   "execution_count": null,
   "metadata": {},
   "outputs": [],
   "source": []
  }
 ],
 "metadata": {
  "kernelspec": {
   "display_name": "Python 3",
   "language": "python",
   "name": "python3"
  },
  "language_info": {
   "codemirror_mode": {
    "name": "ipython",
    "version": 3
   },
   "file_extension": ".py",
   "mimetype": "text/x-python",
   "name": "python",
   "nbconvert_exporter": "python",
   "pygments_lexer": "ipython3",
   "version": "3.8.3"
  }
 },
 "nbformat": 4,
 "nbformat_minor": 4
}
