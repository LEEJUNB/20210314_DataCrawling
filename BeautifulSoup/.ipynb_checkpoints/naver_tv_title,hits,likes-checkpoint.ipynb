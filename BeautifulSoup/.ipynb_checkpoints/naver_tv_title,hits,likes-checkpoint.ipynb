{
 "cells": [
  {
   "cell_type": "code",
   "execution_count": 10,
   "metadata": {},
   "outputs": [],
   "source": [
    "import requests \n",
    "from bs4 import BeautifulSoup \n",
    "import openpyxl"
   ]
  },
  {
   "cell_type": "code",
   "execution_count": 11,
   "metadata": {},
   "outputs": [],
   "source": [
    "wb = openpyxl.Workbook() \n",
    "sheet = wb.active\n",
    "sheet.append([\"제목\", \"채널명\", \"조회수\", \"좋아요수\"])"
   ]
  },
  {
   "cell_type": "code",
   "execution_count": 15,
   "metadata": {},
   "outputs": [],
   "source": [
    "raw = requests.get(\"https://tv.naver.com/r\") \n",
    "html = BeautifulSoup(raw.text, 'html.parser')\n",
    "container = html.select(\"div.inner\") # top 1~3\n",
    "container2 = html.select(\"div.cds\") # 4 ~ *"
   ]
  },
  {
   "cell_type": "code",
   "execution_count": 16,
   "metadata": {},
   "outputs": [],
   "source": [
    "# rank top 1~3\n",
    "for con in container:\n",
    "    t = con.select_one(\"strong.tit\").text.strip() #제목 \n",
    "    c = con.select_one(\"dd.chn\").text.strip() #채널 \n",
    "    h = con.select_one(\"span.hit\").text.strip() #조회수 \n",
    "    l = con.select_one(\"span.like\").text.strip() #좋아요수 \n",
    "    \n",
    "    # sheet 내 각 행에 데이터 추가 \n",
    "    sheet.append([t, c, h, l])\n",
    "\n",
    "# rank 4 ~ *\n",
    "for con in container2 :\n",
    "    t = con.select_one(\"dt.title\").text.strip() #제목 \n",
    "    c = con.select_one(\"dd.chn\").text.strip() #채널 \n",
    "    h = con.select_one(\"span.hit\").text.strip() #조회수 \n",
    "    l = con.select_one(\"span.like\").text.strip() #좋아요수 \n",
    "    \n",
    "    # sheet 내 각 행에 데이터 추가 \n",
    "    sheet.append([t, c, h, l])\n",
    "\n",
    "wb.save('naver_tv.xlsx')"
   ]
  },
  {
   "cell_type": "code",
   "execution_count": null,
   "metadata": {},
   "outputs": [],
   "source": []
  }
 ],
 "metadata": {
  "kernelspec": {
   "display_name": "Python 3",
   "language": "python",
   "name": "python3"
  },
  "language_info": {
   "codemirror_mode": {
    "name": "ipython",
    "version": 3
   },
   "file_extension": ".py",
   "mimetype": "text/x-python",
   "name": "python",
   "nbconvert_exporter": "python",
   "pygments_lexer": "ipython3",
   "version": "3.8.3"
  }
 },
 "nbformat": 4,
 "nbformat_minor": 4
}
