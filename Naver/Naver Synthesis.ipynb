{
 "cells": [
  {
   "cell_type": "code",
   "execution_count": 2,
   "metadata": {},
   "outputs": [],
   "source": [
    "import requests\n",
    "from bs4 import BeautifulSoup\n",
    "headers = {'User-Agent':'Mozilla/5.0 (Windows NT 6.3; Win64; x64) AppleWebKit/537.36 (KHTML, like Gecko) Chrome/63.0.3239.132 Safari/537.36'}\n",
    "url = 'https://datalab.naver.com/keyword/realtimeList.naver?where=main'\n",
    "\n",
    "res = requests.get(url,headers=headers)\n",
    "soup = BeautifulSoup(res.content,'html.parser')"
   ]
  },
  {
   "cell_type": "markdown",
   "metadata": {},
   "source": [
    "# <추출 대상에게 반복되는 태그가 있다면>\n",
    "# find_all함수를 통해 한번에 뽑기\n",
    "\n",
    "- find_all 함수에는 .get_text()가 안된다.\n",
    "- find_all함수를 써야만 모든 검색순위가 나타난다.\n",
    "- find_all함수를 사용한 변수의 타입은 bs4.element.ResultSet으로 Nonetype이 아니기에 반복문으로 사용 가능\n",
    "- find함수만 쓰면 첫번째 검색순위만 나타난다.\n",
    "- find_all함수를 사용한 변수에 find를 적용할 수 없다. (역으로 find에서 find_all은 가능하다)"
   ]
  },
  {
   "cell_type": "code",
   "execution_count": 3,
   "metadata": {},
   "outputs": [],
   "source": [
    "mydata = soup.find_all('div','item_box')"
   ]
  },
  {
   "cell_type": "markdown",
   "metadata": {},
   "source": [
    "## find_all함수와 반복문\n",
    "- find_all함수로 선언된 변수 자체에는 get_text(), split()이 적용안되지만\n",
    "- find_all변수의 값을 반복문을 통해 나온 변수의 타입은 find함수를 사용한 변수와 동일한'bs4.element.Tag'이므로 \n",
    "- get_text(), split() 적용이 가능하다.\n",
    "- split()을 쓰면 리스트형태로 변환된다.\n",
    "- 참고로 find함수의 변수 타입과 반복문으로 추출한 변수의 타입은 'bs4.element.Tag'이다."
   ]
  },
  {
   "cell_type": "code",
   "execution_count": 4,
   "metadata": {},
   "outputs": [
    {
     "name": "stdout",
     "output_type": "stream",
     "text": [
      "['', '1', '', '진달래', '', '                                    가수진달래', '                                ', '', '']\n",
      "['', '2', '', '진달래 학폭', '', '                                    진달래 나이, ', '                                    미스트롯2 진달래', '                                ', '', '']\n",
      "['', '3', '', '이다희', '', '']\n",
      "['', '4', '', '토트넘 브라이튼', '', '']\n",
      "['', '5', '', '굿모닝 대한민국 라이브', '', '']\n",
      "['', '6', '', '류호정', '', '']\n",
      "['', '7', '', '고우리', '', '']\n",
      "['', '8', '', '학생 자가진단', '', '                                    자가진단', '                                ', '', '']\n",
      "['', '9', '', '코로나 거리두기', '', '']\n",
      "['', '10', '', '황정음', '', '']\n",
      "['', '11', '', 'ebs 온라인 클래스', '', '']\n",
      "['', '12', '', '공매도 뜻', '', '']\n",
      "['', '13', '', '김수찬', '', '']\n",
      "['', '14', '', '오늘의날씨', '', '']\n",
      "['', '15', '', '재난지원금', '', '                                    경기도 2차 재난지원금, ', '                                    3차 재난지원금 신청, ', '                                    경기도 재난기본소득 홈페이지, ', '                                    경기 재난지원금, ', '                                    경기도 재난지원금 홈페이지, ', '                                    경기 재난지원금 신청, ', '                                    경기도 2차 재난지원금 신청, ', '                                    경기도 재난기본소득, ', '                                    경기도 재난지원금, ', '                                    경기도 재난지원금 신청', '                                ', '', '']\n",
      "['', '16', '', '트와이스 정연', '', '']\n",
      "['', '17', '', '코로나 발표', '', '']\n",
      "['', '18', '', '리플', '', '']\n",
      "['', '19', '', '달성2터널', '', '']\n",
      "['', '20', '', '구해줘 홈즈', '', '']\n"
     ]
    }
   ],
   "source": [
    "for item in mydata :\n",
    "    print(item.get_text().split('\\n'))"
   ]
  },
  {
   "cell_type": "markdown",
   "metadata": {},
   "source": [
    "# <2중 추출>\n",
    "# find함수 후 find_all함수 사용하기\n",
    "- find함수에는 전체를 포괄하는 즉, 반복문을 사용해야만 뽑을 수 있는 태그들(li태그의 ranking_item클래스) 전부를 포괄해야만 한다."
   ]
  },
  {
   "cell_type": "code",
   "execution_count": 5,
   "metadata": {},
   "outputs": [],
   "source": [
    "newdata = soup.find('div','list_group')"
   ]
  },
  {
   "cell_type": "markdown",
   "metadata": {},
   "source": [
    "## find함수 후 find_all함수 사용하기\n",
    "- find함수로 선언된 변수는 find_all함수로 추가적용이 가능하다\n",
    "- find_all함수를 통해 모든 li택의 ranking_item 클래스 이름을 가진 태그를 전부다 추출\n",
    "- 이 변수를 반복문에 적용시키면 li태그의 ranking_item 갯수만큼 반복한다."
   ]
  },
  {
   "cell_type": "code",
   "execution_count": 8,
   "metadata": {},
   "outputs": [],
   "source": [
    "newdata2 = newdata.find_all('li','ranking_item')"
   ]
  },
  {
   "cell_type": "markdown",
   "metadata": {},
   "source": [
    "## 반복문 적용하기"
   ]
  },
  {
   "cell_type": "markdown",
   "metadata": {},
   "source": [
    "- div태그의 item_box의 갯수만큼 반복한다.\n",
    "- 리스트가 된 변수의 리스트위치를 찍어서 출력하고, 연관검색어도 함께 출력하자\n",
    "- 띄워쓰기인 \\n을 적용하자\n",
    "- 빈칸을 없애 당겨주는 strip을 사용하자\n",
    "- bs4.element.Tag이므로 print에서 +가 가능하다"
   ]
  },
  {
   "cell_type": "code",
   "execution_count": 9,
   "metadata": {},
   "outputs": [
    {
     "name": "stdout",
     "output_type": "stream",
     "text": [
      "1위 : 진달래 \n",
      "관련 검색어 : 가수진달래\n",
      "2위 : 진달래 학폭 \n",
      "관련 검색어 : 진달래 나이,\n",
      "3위 : 이다희 \n",
      "관련 검색어 : \n",
      "4위 : 토트넘 브라이튼 \n",
      "관련 검색어 : \n",
      "5위 : 굿모닝 대한민국 라이브 \n",
      "관련 검색어 : \n",
      "6위 : 류호정 \n",
      "관련 검색어 : \n",
      "7위 : 고우리 \n",
      "관련 검색어 : \n",
      "8위 : 학생 자가진단 \n",
      "관련 검색어 : 자가진단\n",
      "9위 : 코로나 거리두기 \n",
      "관련 검색어 : \n",
      "10위 : 황정음 \n",
      "관련 검색어 : \n",
      "11위 : ebs 온라인 클래스 \n",
      "관련 검색어 : \n",
      "12위 : 공매도 뜻 \n",
      "관련 검색어 : \n",
      "13위 : 김수찬 \n",
      "관련 검색어 : \n",
      "14위 : 오늘의날씨 \n",
      "관련 검색어 : \n",
      "15위 : 재난지원금 \n",
      "관련 검색어 : 경기도 2차 재난지원금,\n",
      "16위 : 트와이스 정연 \n",
      "관련 검색어 : \n",
      "17위 : 코로나 발표 \n",
      "관련 검색어 : \n",
      "18위 : 리플 \n",
      "관련 검색어 : \n",
      "19위 : 달성2터널 \n",
      "관련 검색어 : \n",
      "20위 : 구해줘 홈즈 \n",
      "관련 검색어 : \n"
     ]
    }
   ],
   "source": [
    "for item in newdata2 :\n",
    "    new = item.get_text().split('\\n')\n",
    "    print(new[2]+\"위 :\",new[4], \"\\n관련 검색어 :\", new[6].strip())"
   ]
  },
  {
   "cell_type": "markdown",
   "metadata": {},
   "source": [
    "# 연관 검색어 추출해보자!!"
   ]
  },
  {
   "cell_type": "code",
   "execution_count": 10,
   "metadata": {},
   "outputs": [
    {
     "data": {
      "text/plain": [
       "<div class=\"list_group\">\n",
       "<ul class=\"ranking_list\">\n",
       "<li class=\"ranking_item\">\n",
       "<div class=\"item_box\">\n",
       "<span class=\"item_num\">1</span>\n",
       "<span class=\"item_title_wrap\">\n",
       "<span class=\"item_title\">진달래</span>\n",
       "<span class=\"item_title_sub\">\n",
       "                                    가수진달래\n",
       "                                </span>\n",
       "</span>\n",
       "</div>\n",
       "</li>\n",
       "<li class=\"ranking_item\">\n",
       "<div class=\"item_box\">\n",
       "<span class=\"item_num\">2</span>\n",
       "<span class=\"item_title_wrap\">\n",
       "<span class=\"item_title\">진달래 학폭</span>\n",
       "<span class=\"item_title_sub\">\n",
       "                                    진달래 나이, \n",
       "                                    미스트롯2 진달래\n",
       "                                </span>\n",
       "</span>\n",
       "</div>\n",
       "</li>\n",
       "<li class=\"ranking_item\">\n",
       "<div class=\"item_box\">\n",
       "<span class=\"item_num\">3</span>\n",
       "<span class=\"item_title_wrap\">\n",
       "<span class=\"item_title\">이다희</span>\n",
       "</span>\n",
       "</div>\n",
       "</li>\n",
       "<li class=\"ranking_item\">\n",
       "<div class=\"item_box\">\n",
       "<span class=\"item_num\">4</span>\n",
       "<span class=\"item_title_wrap\">\n",
       "<span class=\"item_title\">토트넘 브라이튼</span>\n",
       "</span>\n",
       "</div>\n",
       "</li>\n",
       "<li class=\"ranking_item\">\n",
       "<div class=\"item_box\">\n",
       "<span class=\"item_num\">5</span>\n",
       "<span class=\"item_title_wrap\">\n",
       "<span class=\"item_title\">굿모닝 대한민국 라이브</span>\n",
       "</span>\n",
       "</div>\n",
       "</li>\n",
       "<li class=\"ranking_item\">\n",
       "<div class=\"item_box\">\n",
       "<span class=\"item_num\">6</span>\n",
       "<span class=\"item_title_wrap\">\n",
       "<span class=\"item_title\">류호정</span>\n",
       "</span>\n",
       "</div>\n",
       "</li>\n",
       "<li class=\"ranking_item\">\n",
       "<div class=\"item_box\">\n",
       "<span class=\"item_num\">7</span>\n",
       "<span class=\"item_title_wrap\">\n",
       "<span class=\"item_title\">고우리</span>\n",
       "</span>\n",
       "</div>\n",
       "</li>\n",
       "<li class=\"ranking_item\">\n",
       "<div class=\"item_box\">\n",
       "<span class=\"item_num\">8</span>\n",
       "<span class=\"item_title_wrap\">\n",
       "<span class=\"item_title\">학생 자가진단</span>\n",
       "<span class=\"item_title_sub\">\n",
       "                                    자가진단\n",
       "                                </span>\n",
       "</span>\n",
       "</div>\n",
       "</li>\n",
       "<li class=\"ranking_item\">\n",
       "<div class=\"item_box\">\n",
       "<span class=\"item_num\">9</span>\n",
       "<span class=\"item_title_wrap\">\n",
       "<span class=\"item_title\">코로나 거리두기</span>\n",
       "</span>\n",
       "</div>\n",
       "</li>\n",
       "<li class=\"ranking_item\">\n",
       "<div class=\"item_box\">\n",
       "<span class=\"item_num\">10</span>\n",
       "<span class=\"item_title_wrap\">\n",
       "<span class=\"item_title\">황정음</span>\n",
       "</span>\n",
       "</div>\n",
       "</li>\n",
       "</ul>\n",
       "<ul class=\"ranking_list\">\n",
       "<li class=\"ranking_item\">\n",
       "<div class=\"item_box\">\n",
       "<span class=\"item_num\">11</span>\n",
       "<span class=\"item_title_wrap\">\n",
       "<span class=\"item_title\">ebs 온라인 클래스</span>\n",
       "</span>\n",
       "</div>\n",
       "</li>\n",
       "<li class=\"ranking_item\">\n",
       "<div class=\"item_box\">\n",
       "<span class=\"item_num\">12</span>\n",
       "<span class=\"item_title_wrap\">\n",
       "<span class=\"item_title\">공매도 뜻</span>\n",
       "</span>\n",
       "</div>\n",
       "</li>\n",
       "<li class=\"ranking_item\">\n",
       "<div class=\"item_box\">\n",
       "<span class=\"item_num\">13</span>\n",
       "<span class=\"item_title_wrap\">\n",
       "<span class=\"item_title\">김수찬</span>\n",
       "</span>\n",
       "</div>\n",
       "</li>\n",
       "<li class=\"ranking_item\">\n",
       "<div class=\"item_box\">\n",
       "<span class=\"item_num\">14</span>\n",
       "<span class=\"item_title_wrap\">\n",
       "<span class=\"item_title\">오늘의날씨</span>\n",
       "</span>\n",
       "</div>\n",
       "</li>\n",
       "<li class=\"ranking_item\">\n",
       "<div class=\"item_box\">\n",
       "<span class=\"item_num\">15</span>\n",
       "<span class=\"item_title_wrap\">\n",
       "<span class=\"item_title\">재난지원금</span>\n",
       "<span class=\"item_title_sub\">\n",
       "                                    경기도 2차 재난지원금, \n",
       "                                    3차 재난지원금 신청, \n",
       "                                    경기도 재난기본소득 홈페이지, \n",
       "                                    경기 재난지원금, \n",
       "                                    경기도 재난지원금 홈페이지, \n",
       "                                    경기 재난지원금 신청, \n",
       "                                    경기도 2차 재난지원금 신청, \n",
       "                                    경기도 재난기본소득, \n",
       "                                    경기도 재난지원금, \n",
       "                                    경기도 재난지원금 신청\n",
       "                                </span>\n",
       "</span>\n",
       "</div>\n",
       "</li>\n",
       "<li class=\"ranking_item\">\n",
       "<div class=\"item_box\">\n",
       "<span class=\"item_num\">16</span>\n",
       "<span class=\"item_title_wrap\">\n",
       "<span class=\"item_title\">트와이스 정연</span>\n",
       "</span>\n",
       "</div>\n",
       "</li>\n",
       "<li class=\"ranking_item\">\n",
       "<div class=\"item_box\">\n",
       "<span class=\"item_num\">17</span>\n",
       "<span class=\"item_title_wrap\">\n",
       "<span class=\"item_title\">코로나 발표</span>\n",
       "</span>\n",
       "</div>\n",
       "</li>\n",
       "<li class=\"ranking_item\">\n",
       "<div class=\"item_box\">\n",
       "<span class=\"item_num\">18</span>\n",
       "<span class=\"item_title_wrap\">\n",
       "<span class=\"item_title\">리플</span>\n",
       "</span>\n",
       "</div>\n",
       "</li>\n",
       "<li class=\"ranking_item\">\n",
       "<div class=\"item_box\">\n",
       "<span class=\"item_num\">19</span>\n",
       "<span class=\"item_title_wrap\">\n",
       "<span class=\"item_title\">달성2터널</span>\n",
       "</span>\n",
       "</div>\n",
       "</li>\n",
       "<li class=\"ranking_item\">\n",
       "<div class=\"item_box\">\n",
       "<span class=\"item_num\">20</span>\n",
       "<span class=\"item_title_wrap\">\n",
       "<span class=\"item_title\">구해줘 홈즈</span>\n",
       "</span>\n",
       "</div>\n",
       "</li>\n",
       "</ul>\n",
       "</div>"
      ]
     },
     "execution_count": 10,
     "metadata": {},
     "output_type": "execute_result"
    }
   ],
   "source": [
    "reldata = soup.find('div','list_group')\n",
    "reldata"
   ]
  },
  {
   "cell_type": "code",
   "execution_count": 11,
   "metadata": {},
   "outputs": [],
   "source": [
    "subData = reldata.find_all('span','item_title_sub')"
   ]
  },
  {
   "cell_type": "code",
   "execution_count": 12,
   "metadata": {},
   "outputs": [
    {
     "name": "stdout",
     "output_type": "stream",
     "text": [
      "\n",
      "                                    가수진달래\n",
      "                                \n",
      "\n",
      "                                    진달래 나이, \n",
      "                                    미스트롯2 진달래\n",
      "                                \n",
      "\n",
      "                                    자가진단\n",
      "                                \n",
      "\n",
      "                                    경기도 2차 재난지원금, \n",
      "                                    3차 재난지원금 신청, \n",
      "                                    경기도 재난기본소득 홈페이지, \n",
      "                                    경기 재난지원금, \n",
      "                                    경기도 재난지원금 홈페이지, \n",
      "                                    경기 재난지원금 신청, \n",
      "                                    경기도 2차 재난지원금 신청, \n",
      "                                    경기도 재난기본소득, \n",
      "                                    경기도 재난지원금, \n",
      "                                    경기도 재난지원금 신청\n",
      "                                \n"
     ]
    }
   ],
   "source": [
    "for item in subData : \n",
    "    print(item.get_text())"
   ]
  },
  {
   "cell_type": "code",
   "execution_count": null,
   "metadata": {},
   "outputs": [],
   "source": []
  }
 ],
 "metadata": {
  "kernelspec": {
   "display_name": "Python 3",
   "language": "python",
   "name": "python3"
  },
  "language_info": {
   "codemirror_mode": {
    "name": "ipython",
    "version": 3
   },
   "file_extension": ".py",
   "mimetype": "text/x-python",
   "name": "python",
   "nbconvert_exporter": "python",
   "pygments_lexer": "ipython3",
   "version": "3.8.3"
  }
 },
 "nbformat": 4,
 "nbformat_minor": 2
}
