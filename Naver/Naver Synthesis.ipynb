{
 "cells": [
  {
   "cell_type": "code",
   "execution_count": 108,
   "metadata": {},
   "outputs": [],
   "source": [
    "import requests\n",
    "from bs4 import BeautifulSoup\n",
    "headers = {'User-Agent':'Mozilla/5.0 (Windows NT 6.3; Win64; x64) AppleWebKit/537.36 (KHTML, like Gecko) Chrome/63.0.3239.132 Safari/537.36'}\n",
    "url = 'https://datalab.naver.com/keyword/realtimeList.naver?where=main'\n",
    "\n",
    "res = requests.get(url,headers=headers)\n",
    "soup = BeautifulSoup(res.content,'html.parser')"
   ]
  },
  {
   "cell_type": "markdown",
   "metadata": {},
   "source": [
    "# <한번에 뽑자>\n",
    "# find_all함수를 통해 한번에 뽑기\n",
    "\n",
    "- find_all 함수에는 .get_text()가 안된다.\n",
    "- find_all함수를 써야만 모든 검색순위가 나타난다.\n",
    "- find_all함수를 사용한 변수의 타입은 bs4.element.ResultSet으로 Nonetype이 아니기에 반복문으로 사용 가능\n",
    "- find함수만 쓰면 첫번째 검색순위만 나타난다.\n",
    "- find_all함수를 사용한 변수에 find를 적용할 수 없다. (역으로 find에서 find_all은 가능하다)"
   ]
  },
  {
   "cell_type": "code",
   "execution_count": 73,
   "metadata": {},
   "outputs": [],
   "source": [
    "mydata = soup.find_all('div','item_box')"
   ]
  },
  {
   "cell_type": "markdown",
   "metadata": {},
   "source": [
    "## find_all함수와 반복문\n",
    "- find_all함수로 선언된 변수 자체에는 get_text(), split()이 적용안되지만\n",
    "- find_all변수의 값을 반복문을 통해 나온 변수의 타입은 find함수를 사용한 변수와 동일한'bs4.element.Tag'이므로 \n",
    "- get_text(), split() 적용이 가능하다.\n",
    "- split()을 쓰면 리스트형태로 변환된다.\n",
    "- 참고로 find함수의 변수 타입과 반복문으로 추출한 변수의 타입은 'bs4.element.Tag'이다."
   ]
  },
  {
   "cell_type": "code",
   "execution_count": 97,
   "metadata": {},
   "outputs": [
    {
     "name": "stdout",
     "output_type": "stream",
     "text": [
      "['', '', '1', '', '이만희 기자회견', '', '                                                    이만희 코로나', '                                            ', '', '', '']\n",
      "['', '', '2', '', '근로장려금', '', '                                                    2020근로장려금 신청기간, ', '                                                    2020근로장려금 신청', '                                            ', '', '', '']\n",
      "['', '', '3', '', '카카오스토리', '', '', '']\n",
      "['', '', '4', '', '북한 미사일', '', '', '']\n",
      "['', '', '5', '', '북한', '', '', '']\n",
      "['', '', '6', '', '근로장려금 자격요건', '', '', '']\n",
      "['', '', '7', '', '광주양림교회', '', '                                                    양림교회', '                                            ', '', '', '']\n",
      "['', '', '8', '', '안철수 의사', '', '', '']\n",
      "['', '', '9', '', '곡성', '', '', '']\n",
      "['', '', '10', '', '아이엠스쿨', '', '', '']\n",
      "['', '', '11', '', '공지영', '', '', '']\n",
      "['', '', '12', '', '주승용', '', '', '']\n",
      "['', '', '13', '', '교육부 개학연기', '', '                                                    개학, ', '                                                    개학연기, ', '                                                    교육부, ', '                                                    전국 개학 연기, ', '                                                    코로나 개학연기, ', '                                                    학교 개학 연기', '                                            ', '', '', '']\n",
      "['', '', '14', '', '빅텍', '', '', '']\n",
      "['', '', '15', '', '안철수', '', '', '']\n",
      "['', '', '16', '', '안랩', '', '', '']\n",
      "['', '', '17', '', '오로라공주', '', '', '']\n",
      "['', '', '18', '', '정신연령 테스트', '', '', '']\n",
      "['', '', '19', '', '해피 데스 데이', '', '', '']\n",
      "['', '', '20', '', '엘클라시코', '', '                                                    레알마드리드 바르셀로나', '                                            ', '', '', '']\n"
     ]
    }
   ],
   "source": [
    "for item in mydata :\n",
    "    print(item.get_text().split('\\n'))"
   ]
  },
  {
   "cell_type": "markdown",
   "metadata": {},
   "source": [
    "# <2중으로 추출로 뽑자>\n",
    "# find함수 후 find_all함수 사용하기\n",
    "- find함수에는 전체를 포괄하는 즉, 반복문을 사용해야만 뽑을 수 있는 태그들(li태그의 ranking_item클래스) 전부를 포괄해야만 한다."
   ]
  },
  {
   "cell_type": "code",
   "execution_count": 109,
   "metadata": {},
   "outputs": [],
   "source": [
    "newdata = soup.find('div','list_group')"
   ]
  },
  {
   "cell_type": "markdown",
   "metadata": {},
   "source": [
    "## find함수 후 find_all함수 사용하기\n",
    "- find함수로 선언된 변수는 find_all함수로 추가적용이 가능하다\n",
    "- find_all함수를 통해 모든 div택의 item_box라는 클래스 이름을 가진 태그를 전부다 추출했다.\n",
    "- 이 변수를 반복문에 적용시키면 div태그의 item_box의 갯수만큼 반복한다."
   ]
  },
  {
   "cell_type": "code",
   "execution_count": 110,
   "metadata": {},
   "outputs": [],
   "source": [
    "newdata2 = newdata.find_all('li','ranking_item')"
   ]
  },
  {
   "cell_type": "markdown",
   "metadata": {},
   "source": [
    "- div태그의 item_box의 갯수만큼 반복한다."
   ]
  },
  {
   "cell_type": "markdown",
   "metadata": {},
   "source": [
    "- 리스트가 된 변수의 리스트위치를 찍어서 출력하고, 연관검색어도 함께 출력하자\n",
    "- 띄워쓰기인 \\n을 적용하자\n",
    "- 빈칸을 없애 당겨주는 strip을 사용하자\n",
    "- bs4.element.Tag이므로 print에서 +가 가능하다"
   ]
  },
  {
   "cell_type": "code",
   "execution_count": 111,
   "metadata": {},
   "outputs": [
    {
     "name": "stdout",
     "output_type": "stream",
     "text": [
      "1위 : 이만희 기자회견 \n",
      "관련 검색어 : 이만희 나이,\n",
      "2위 : 근로장려금 \n",
      "관련 검색어 : 2020근로장려금 신청기간,\n",
      "3위 : 근로장려금 자격요건 \n",
      "관련 검색어 : \n",
      "4위 : 평화의궁전 \n",
      "관련 검색어 : 신천지 평화의궁전\n",
      "5위 : 울산 개학연기 \n",
      "관련 검색어 : 교육부 개학연기,\n",
      "6위 : 정신연령 테스트 \n",
      "관련 검색어 : \n",
      "7위 : 가평 평화의궁전 \n",
      "관련 검색어 : \n",
      "8위 : 파미셀 \n",
      "관련 검색어 : \n",
      "9위 : 곡성 \n",
      "관련 검색어 : \n",
      "10위 : 북한 미사일 \n",
      "관련 검색어 : \n",
      "11위 : 주승용 \n",
      "관련 검색어 : \n",
      "12위 : 곡성 해석 \n",
      "관련 검색어 : \n",
      "13위 : 색즉시공 \n",
      "관련 검색어 : \n",
      "14위 : 이민호 \n",
      "관련 검색어 : \n",
      "15위 : 엠바고 \n",
      "관련 검색어 : \n",
      "16위 : 나를 찾아줘 \n",
      "관련 검색어 : \n",
      "17위 : 안철수 의사 \n",
      "관련 검색어 : 안철수,\n",
      "18위 : 카카오스토리 \n",
      "관련 검색어 : \n",
      "19위 : 이만희 눈동자 \n",
      "관련 검색어 : \n",
      "20위 : 광주양림교회 \n",
      "관련 검색어 : \n"
     ]
    }
   ],
   "source": [
    "for item in newdata2 :\n",
    "    new = item.get_text().split('\\n')\n",
    "    print(new[2]+\"위 :\",new[4], \"\\n관련 검색어 :\", new[6].strip())"
   ]
  },
  {
   "cell_type": "markdown",
   "metadata": {},
   "source": [
    "# 연관 검색어 추출해보자!!"
   ]
  },
  {
   "cell_type": "code",
   "execution_count": 103,
   "metadata": {},
   "outputs": [
    {
     "data": {
      "text/plain": [
       "<div class=\"list_group\">\n",
       "<ul class=\"ranking_list\">\n",
       "<li class=\"ranking_item\">\n",
       "<div class=\"item_box\">\n",
       "<span class=\"item_num\">1</span>\n",
       "<span class=\"item_title_wrap\">\n",
       "<span class=\"item_title\">이만희 기자회견</span>\n",
       "<span class=\"item_title_sub\">\n",
       "                                                    이만희 나이, \n",
       "                                                    신천지 이만희 나이, \n",
       "                                                    이만희 코로나, \n",
       "                                                    신천지 이만희 기자회견, \n",
       "                                                    신천지 이만희, \n",
       "                                                    이만희 눈, \n",
       "                                                    이만희 절, \n",
       "                                                    신천지 기자회견\n",
       "                                            </span>\n",
       "</span>\n",
       "</div>\n",
       "</li>\n",
       "<li class=\"ranking_item\">\n",
       "<div class=\"item_box\">\n",
       "<span class=\"item_num\">2</span>\n",
       "<span class=\"item_title_wrap\">\n",
       "<span class=\"item_title\">근로장려금</span>\n",
       "<span class=\"item_title_sub\">\n",
       "                                                    2020근로장려금 신청기간, \n",
       "                                                    2020근로장려금 신청, \n",
       "                                                    자녀장려금, \n",
       "                                                    2020년 근로장려금, \n",
       "                                                    2020년 근로장려금 신청기간, \n",
       "                                                    근로장려금 신청, \n",
       "                                                    2020근로장려금\n",
       "                                            </span>\n",
       "</span>\n",
       "</div>\n",
       "</li>\n",
       "<li class=\"ranking_item\">\n",
       "<div class=\"item_box\">\n",
       "<span class=\"item_num\">3</span>\n",
       "<span class=\"item_title_wrap\">\n",
       "<span class=\"item_title\">근로장려금 자격요건</span>\n",
       "</span>\n",
       "</div>\n",
       "</li>\n",
       "<li class=\"ranking_item\">\n",
       "<div class=\"item_box\">\n",
       "<span class=\"item_num\">4</span>\n",
       "<span class=\"item_title_wrap\">\n",
       "<span class=\"item_title\">평화의궁전</span>\n",
       "<span class=\"item_title_sub\">\n",
       "                                                    가평 평화의궁전, \n",
       "                                                    신천지 평화의궁전\n",
       "                                            </span>\n",
       "</span>\n",
       "</div>\n",
       "</li>\n",
       "<li class=\"ranking_item\">\n",
       "<div class=\"item_box\">\n",
       "<span class=\"item_num\">5</span>\n",
       "<span class=\"item_title_wrap\">\n",
       "<span class=\"item_title\">울산 개학연기</span>\n",
       "<span class=\"item_title_sub\">\n",
       "                                                    교육부 개학연기, \n",
       "                                                    개학연기, \n",
       "                                                    개학, \n",
       "                                                    전국 개학 연기, \n",
       "                                                    교육부, \n",
       "                                                    초중고 개학 연기, \n",
       "                                                    학교 개학 연기, \n",
       "                                                    울산 개학, \n",
       "                                                    전국 초중고 개학연기, \n",
       "                                                    초등학교 개학연기, \n",
       "                                                    울산 학교 개학 연기, \n",
       "                                                    코로나 개학연기\n",
       "                                            </span>\n",
       "</span>\n",
       "</div>\n",
       "</li>\n",
       "<li class=\"ranking_item\">\n",
       "<div class=\"item_box\">\n",
       "<span class=\"item_num\">6</span>\n",
       "<span class=\"item_title_wrap\">\n",
       "<span class=\"item_title\">정신연령 테스트</span>\n",
       "</span>\n",
       "</div>\n",
       "</li>\n",
       "<li class=\"ranking_item\">\n",
       "<div class=\"item_box\">\n",
       "<span class=\"item_num\">7</span>\n",
       "<span class=\"item_title_wrap\">\n",
       "<span class=\"item_title\">파미셀</span>\n",
       "</span>\n",
       "</div>\n",
       "</li>\n",
       "<li class=\"ranking_item\">\n",
       "<div class=\"item_box\">\n",
       "<span class=\"item_num\">8</span>\n",
       "<span class=\"item_title_wrap\">\n",
       "<span class=\"item_title\">곡성</span>\n",
       "</span>\n",
       "</div>\n",
       "</li>\n",
       "<li class=\"ranking_item\">\n",
       "<div class=\"item_box\">\n",
       "<span class=\"item_num\">9</span>\n",
       "<span class=\"item_title_wrap\">\n",
       "<span class=\"item_title\">북한 미사일</span>\n",
       "</span>\n",
       "</div>\n",
       "</li>\n",
       "<li class=\"ranking_item\">\n",
       "<div class=\"item_box\">\n",
       "<span class=\"item_num\">10</span>\n",
       "<span class=\"item_title_wrap\">\n",
       "<span class=\"item_title\">곡성 해석</span>\n",
       "</span>\n",
       "</div>\n",
       "</li>\n",
       "</ul>\n",
       "<ul class=\"ranking_list\">\n",
       "<li class=\"ranking_item\">\n",
       "<div class=\"item_box\">\n",
       "<span class=\"item_num\">11</span>\n",
       "<span class=\"item_title_wrap\">\n",
       "<span class=\"item_title\">주승용</span>\n",
       "</span>\n",
       "</div>\n",
       "</li>\n",
       "<li class=\"ranking_item\">\n",
       "<div class=\"item_box\">\n",
       "<span class=\"item_num\">12</span>\n",
       "<span class=\"item_title_wrap\">\n",
       "<span class=\"item_title\">색즉시공</span>\n",
       "</span>\n",
       "</div>\n",
       "</li>\n",
       "<li class=\"ranking_item\">\n",
       "<div class=\"item_box\">\n",
       "<span class=\"item_num\">13</span>\n",
       "<span class=\"item_title_wrap\">\n",
       "<span class=\"item_title\">카카오스토리</span>\n",
       "</span>\n",
       "</div>\n",
       "</li>\n",
       "<li class=\"ranking_item\">\n",
       "<div class=\"item_box\">\n",
       "<span class=\"item_num\">14</span>\n",
       "<span class=\"item_title_wrap\">\n",
       "<span class=\"item_title\">나를 찾아줘</span>\n",
       "</span>\n",
       "</div>\n",
       "</li>\n",
       "<li class=\"ranking_item\">\n",
       "<div class=\"item_box\">\n",
       "<span class=\"item_num\">15</span>\n",
       "<span class=\"item_title_wrap\">\n",
       "<span class=\"item_title\">이민호</span>\n",
       "</span>\n",
       "</div>\n",
       "</li>\n",
       "<li class=\"ranking_item\">\n",
       "<div class=\"item_box\">\n",
       "<span class=\"item_num\">16</span>\n",
       "<span class=\"item_title_wrap\">\n",
       "<span class=\"item_title\">안철수 의사</span>\n",
       "<span class=\"item_title_sub\">\n",
       "                                                    안철수\n",
       "                                            </span>\n",
       "</span>\n",
       "</div>\n",
       "</li>\n",
       "<li class=\"ranking_item\">\n",
       "<div class=\"item_box\">\n",
       "<span class=\"item_num\">17</span>\n",
       "<span class=\"item_title_wrap\">\n",
       "<span class=\"item_title\">이만희</span>\n",
       "</span>\n",
       "</div>\n",
       "</li>\n",
       "<li class=\"ranking_item\">\n",
       "<div class=\"item_box\">\n",
       "<span class=\"item_num\">18</span>\n",
       "<span class=\"item_title_wrap\">\n",
       "<span class=\"item_title\">엠바고</span>\n",
       "</span>\n",
       "</div>\n",
       "</li>\n",
       "<li class=\"ranking_item\">\n",
       "<div class=\"item_box\">\n",
       "<span class=\"item_num\">19</span>\n",
       "<span class=\"item_title_wrap\">\n",
       "<span class=\"item_title\">광주양림교회</span>\n",
       "</span>\n",
       "</div>\n",
       "</li>\n",
       "<li class=\"ranking_item\">\n",
       "<div class=\"item_box\">\n",
       "<span class=\"item_num\">20</span>\n",
       "<span class=\"item_title_wrap\">\n",
       "<span class=\"item_title\">이만희 눈동자</span>\n",
       "</span>\n",
       "</div>\n",
       "</li>\n",
       "</ul>\n",
       "</div>"
      ]
     },
     "execution_count": 103,
     "metadata": {},
     "output_type": "execute_result"
    }
   ],
   "source": [
    "reldata = soup.find('div','list_group')\n",
    "reldata"
   ]
  },
  {
   "cell_type": "code",
   "execution_count": 91,
   "metadata": {},
   "outputs": [],
   "source": [
    "subData = reldata.find_all('span','item_title_sub')"
   ]
  },
  {
   "cell_type": "code",
   "execution_count": 114,
   "metadata": {},
   "outputs": [
    {
     "name": "stdout",
     "output_type": "stream",
     "text": [
      "\n",
      "                                                    이만희 코로나\n",
      "                                            \n",
      "\n",
      "                                                    2020근로장려금 신청기간, \n",
      "                                                    2020근로장려금 신청\n",
      "                                            \n",
      "\n",
      "                                                    양림교회\n",
      "                                            \n",
      "\n",
      "                                                    개학, \n",
      "                                                    개학연기, \n",
      "                                                    교육부, \n",
      "                                                    전국 개학 연기, \n",
      "                                                    코로나 개학연기, \n",
      "                                                    학교 개학 연기\n",
      "                                            \n",
      "\n",
      "                                                    레알마드리드 바르셀로나\n",
      "                                            \n"
     ]
    }
   ],
   "source": [
    "for item in subData : \n",
    "    print(item.get_text())"
   ]
  },
  {
   "cell_type": "markdown",
   "metadata": {},
   "source": [
    "# Q) 연관검색어가 굉장히 많은데 왜 전부 뜨지 않는걸까?"
   ]
  },
  {
   "cell_type": "code",
   "execution_count": null,
   "metadata": {},
   "outputs": [],
   "source": []
  }
 ],
 "metadata": {
  "kernelspec": {
   "display_name": "Python 3",
   "language": "python",
   "name": "python3"
  },
  "language_info": {
   "codemirror_mode": {
    "name": "ipython",
    "version": 3
   },
   "file_extension": ".py",
   "mimetype": "text/x-python",
   "name": "python",
   "nbconvert_exporter": "python",
   "pygments_lexer": "ipython3",
   "version": "3.8.3"
  }
 },
 "nbformat": 4,
 "nbformat_minor": 2
}
