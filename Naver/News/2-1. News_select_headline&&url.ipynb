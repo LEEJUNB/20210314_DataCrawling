{
 "cells": [
  {
   "cell_type": "code",
   "execution_count": 4,
   "metadata": {},
   "outputs": [],
   "source": [
    "import requests\n",
    "from bs4 import BeautifulSoup"
   ]
  },
  {
   "cell_type": "markdown",
   "metadata": {},
   "source": [
    "# 네이버 IT/과학 카테고리 헤드라인 추출"
   ]
  },
  {
   "cell_type": "code",
   "execution_count": 5,
   "metadata": {},
   "outputs": [],
   "source": [
    "# 최신 headers로 수정\n",
    "headers = {\"User-Agent\": \"Mozilla/5.0 (Windows NT 10.0; Win64; x64) AppleWebKit/537.36 (KHTML, like Gecko) Chrome/87.0.4280.88 Safari/537.36\"}\n",
    "url = 'https://news.naver.com/main/main.nhn?mode=LSD&mid=shm&sid1=105'\n",
    "res = requests.get(url,headers=headers)\n",
    "soup = BeautifulSoup(res.content, 'html.parser')"
   ]
  },
  {
   "cell_type": "code",
   "execution_count": 14,
   "metadata": {},
   "outputs": [
    {
     "name": "stdout",
     "output_type": "stream",
     "text": [
      "'뽀로로 성인물' 보상 어떻게?…방통위가 들여다본다(상보)\n",
      "재생 버퍼링에 뽀로로 대참사…총체적 난국 웨이브\n",
      "뽀로로 틀었는데 베드신?… 웨이브 잇단 방송사고 왜\n",
      "웨이브 왜 이래…뽀로로에 성인물 송출, 재생 끊기고 싱크 오류 ‘관리부실’\n",
      "국내 최대 소부장 전시회 '세미콘 코리아', 2월 3일 개최\n",
      "세미콘 코리아 2021, 3일 개막… \"초연결 세계를 위한 반도체\"\n",
      "'뉴노멀 시대, 반도체 미래 전망' 세미콘코리아 3일 개막\n",
      "반도체 콘퍼런스 '세미콘 코리아' 3일 개막…온라인으로 진행\n",
      "LG유플러스, 양자내성암호로 안전한 의료정보시스템 만든다\n",
      "LGU+, 을지대병원 의료정보시스템에 양자내성암호 적용\n",
      "쿠콘, 금융위 마이데이터 본허가 획득\n",
      "쿠콘, 마이데이터 사업자 본허가 획득\n",
      "부산시, 코로나19 능동감시자 AI케어콜 서비스 개시\n",
      "네이버, 부산서도 '클로바 케어콜'… AI로 지자체와 방역 협력\n",
      "넥슨, 임금 대폭 상향...우수 인재 확보 나서\n",
      "넥슨, 연봉 800만 원 일괄 인상... 개발 초봉 5,000만 원\n",
      "SKT·페이스북, VR 맞손…'오큘러스 퀘스트2' 국내 판매\n",
      "\"가상현실세계 확장\" SKT·페이스북 '오큘러스 퀘스트2' 첫선\n",
      "\"통신서비스 불편 해결은 분쟁조정사례집 활용하세요\"\n",
      "가입 안했는데 청구서엔…\"통신분쟁사례집 참고하세요\"\n"
     ]
    }
   ],
   "source": [
    "data = soup.select('#main_content > div > div._persist > div> div> div.cluster_body > ul > li > div.cluster_text > a')\n",
    "for item in data :\n",
    "    print(item.get_text())"
   ]
  },
  {
   "cell_type": "markdown",
   "metadata": {},
   "source": [
    "# 헤드라인 및 url 추출"
   ]
  },
  {
   "cell_type": "markdown",
   "metadata": {},
   "source": [
    "- 위 select 태그는 a태그로 href추출안됨\n",
    "- a태그를 상위 태그를 select로 설정하여 진행"
   ]
  },
  {
   "cell_type": "code",
   "execution_count": 15,
   "metadata": {},
   "outputs": [
    {
     "name": "stdout",
     "output_type": "stream",
     "text": [
      "\n",
      "'뽀로로 성인물' 보상 어떻게?…방통위가 들여다본다(상보)\n",
      "[OTT 웨이브, '이용자 보호' 실태점검 착수...\"보호·보상 미흡시 행정지도·시정명령 검토\"] 방송통신위원회가 아동 콘텐츠 방송 중 성인물을 수초간  …\n",
      "\n",
      "머니투데이\n",
      "\n",
      "\n",
      "https://news.naver.com/main/read.nhn?mode=LSD&mid=shm&sid1=105&oid=008&aid=0004537199\n",
      "\n",
      "\n",
      "아시아경제\n",
      "\n",
      "재생 버퍼링에 뽀로로 대참사…총체적 난국 웨이브\n",
      "\n",
      "https://news.naver.com/main/read.nhn?mode=LSD&mid=shm&sid1=105&oid=277&aid=0004838928\n",
      "\n",
      "\n",
      "머니투데이\n",
      "\n",
      "뽀로로 틀었는데 베드신?… 웨이브 잇단 방송사고 왜\n",
      "\n",
      "https://news.naver.com/main/read.nhn?mode=LSD&mid=shm&sid1=105&oid=008&aid=0004536819\n",
      "\n",
      "\n",
      "경향신문\n",
      "\n",
      "웨이브 왜 이래…뽀로로에 성인물 송출, 재생 끊기고 싱크 오류 ‘관리부실’\n",
      "\n",
      "https://news.naver.com/main/read.nhn?mode=LSD&mid=shm&sid1=105&oid=032&aid=0003056953\n",
      "\n",
      "국내 최대 소부장 전시회 '세미콘 코리아', 2월 3일 개최\n",
      "국내 최대 규모의 반도체 소재·부품·장비 전시회 세미콘 코리아가 막을 올린다. 1일 국제반도체장비재료협회(SEMI)는 오는 3일부터 12일까지 열흘간 온 …\n",
      "\n",
      "ZDNet Korea\n",
      "\n",
      "\n",
      "https://news.naver.com/main/read.nhn?mode=LSD&mid=shm&sid1=105&oid=092&aid=0002212489\n",
      "\n",
      "\n",
      "조선비즈\n",
      "\n",
      "세미콘 코리아 2021, 3일 개막… \"초연결 세계를 위한 반도체\"\n",
      "\n",
      "https://news.naver.com/main/read.nhn?mode=LSD&mid=shm&sid1=105&oid=366&aid=0000662821\n",
      "\n",
      "\n",
      "전자신문\n",
      "\n",
      "'뉴노멀 시대, 반도체 미래 전망' 세미콘코리아 3일 개막\n",
      "\n",
      "https://news.naver.com/main/read.nhn?mode=LSD&mid=shm&sid1=105&oid=030&aid=0002926363\n",
      "\n",
      "\n",
      "뉴시스\n",
      "\n",
      "반도체 콘퍼런스 '세미콘 코리아' 3일 개막…온라인으로 진행\n",
      "\n",
      "https://news.naver.com/main/read.nhn?mode=LSD&mid=shm&sid1=105&oid=003&aid=0010323355\n",
      "\n",
      "LG유플러스, 양자내성암호로 안전한 의료정보시스템 만든다\n",
      "LG유플러스는 보안전문회사 ICTK홀딩스와 을지대학교병원의 의료정보시스템에 양자내성암호(PQC) 기술을 적용해 보안을 대폭 강화했다고 1일 밝혔다. 의료 …\n",
      "\n",
      "파이낸셜뉴스\n",
      "\n",
      "\n",
      "https://news.naver.com/main/read.nhn?mode=LSD&mid=shm&sid1=105&oid=014&aid=0004575833\n",
      "\n",
      "LGU+, 을지대병원 의료정보시스템에 양자내성암호 적용\n",
      "LG유플러스가 양자내성암호로 안전한 의료정보시스템을 만든다. LG유플러스는 보안전문회사 ICTK홀딩스와 을지대학교병원 의료정보시스템에 양자내성암호(PQC …\n",
      "\n",
      "디지털데일리\n",
      "\n",
      "\n",
      "https://news.naver.com/main/read.nhn?mode=LSD&mid=shm&sid1=105&oid=138&aid=0002098318\n",
      "\n",
      "쿠콘, 금융위 마이데이터 본허가 획득\n",
      "비즈니스 데이터 제공 업체 쿠콘(대표 김종현)은 금융위원회의 마이데이터(본인신용정보관리업) 본허가를 획득했다고 1일 밝혔다. 마이데이터 서비스는 여러 기 …\n",
      "\n",
      "ZDNet Korea\n",
      "\n",
      "\n",
      "https://news.naver.com/main/read.nhn?mode=LSD&mid=shm&sid1=105&oid=092&aid=0002212490\n",
      "\n",
      "쿠콘, 마이데이터 사업자 본허가 획득\n",
      "쿠콘(대표 김종현)이 금융위원회로부터 마이데이터 (본인신용정보관리업) 본허가를 획득했다고 1일 밝혔다. 마이데이터 서비스는 여러 기관과 기업에 흩어진 개인 신용정보를 마이데이터 사업자가 제\n",
      "\n",
      "디지털데일리\n",
      "\n",
      "\n",
      "https://news.naver.com/main/read.nhn?mode=LSD&mid=shm&sid1=105&oid=138&aid=0002098331\n",
      "\n",
      "부산시, 코로나19 능동감시자 AI케어콜 서비스 개시\n",
      "부산시가 능동감시자를 살피는 업무에 AI기술을 도입해 보건소 직원들의 업무 부담이 상당부분 해소될 전망이다. 부산시는 1일부터 네이버와 협력해 인공지능( …\n",
      "\n",
      "노컷뉴스\n",
      "\n",
      "\n",
      "https://news.naver.com/main/read.nhn?mode=LSD&mid=shm&sid1=105&oid=079&aid=0003462248\n",
      "\n",
      "네이버, 부산서도 '클로바 케어콜'… AI로 지자체와 방역 협력\n",
      "네이버는 부산광역시 업무협약을 체결, 부산시내 6개 보건소에 코로나19 능동감시대상자를 관리하는 인공지능(AI) 솔루션 '클로바 케어콜'을 무상 도입하기 …\n",
      "\n",
      "뉴시스\n",
      "\n",
      "\n",
      "https://news.naver.com/main/read.nhn?mode=LSD&mid=shm&sid1=105&oid=003&aid=0010322793\n",
      "\n",
      "넥슨, 임금 대폭 상향...우수 인재 확보 나서\n",
      "넥슨코리아(대표 이정헌)는 회사의 지속적인 성장 전략과 우수 인재 확보를 통한 글로벌 경쟁력 강화를 위해 임금체계를 대폭 상향 개편한다고 1일 밝혔다.  …\n",
      "\n",
      "ZDNet Korea\n",
      "\n",
      "\n",
      "https://news.naver.com/main/read.nhn?mode=LSD&mid=shm&sid1=105&oid=092&aid=0002212453\n",
      "\n",
      "넥슨, 연봉 800만 원 일괄 인상... 개발 초봉 5,000만 원\n",
      "국내 최대 게임업체 넥슨이 신입 사원 초봉과 재직 중인 직원 연봉을 일괄 800만 원 인상한다. 글로벌 경쟁력을 갖춘 인재 확보를 위한 움직임이다. 1일 …\n",
      "\n",
      "서울경제\n",
      "\n",
      "\n",
      "https://news.naver.com/main/read.nhn?mode=LSD&mid=shm&sid1=105&oid=011&aid=0003865438\n",
      "\n",
      "SKT·페이스북, VR 맞손…'오큘러스 퀘스트2' 국내 판매\n",
      "SK텔레콤은 페이스북의 최신형 혼합현실 기기인 '오큘러스 퀘스트2'에 대한 국내 유통권을 확보하고, 2일부터 공식 판매를 시작한다고 1일 밝혔다. 이번  …\n",
      "\n",
      "연합뉴스\n",
      "\n",
      "\n",
      "https://news.naver.com/main/read.nhn?mode=LSD&mid=shm&sid1=105&oid=001&aid=0012175079\n",
      "\n",
      "\"가상현실세계 확장\" SKT·페이스북 '오큘러스 퀘스트2' 첫선\n",
      "SK텔레콤과 페이스북이 국내 가상현실(VR) 생태계 외연 확장을 위해 손을 잡았다. SK텔레콤은 페이스북의 최신형 혼합현실 기기 ‘오큘러스 퀘스트2’ 국 …\n",
      "\n",
      "아시아경제\n",
      "\n",
      "\n",
      "https://news.naver.com/main/read.nhn?mode=LSD&mid=shm&sid1=105&oid=277&aid=0004839069\n",
      "\n",
      "\"통신서비스 불편 해결은 분쟁조정사례집 활용하세요\"\n",
      "방송통신위원회는 1일 통신 서비스를 이용하면서 불편을 겪은 이용자에게 피해구제 기회를 제공하고 조정결과의 예측 가능성을 높이기 위해 통신분쟁조정사례집을  …\n",
      "\n",
      "연합뉴스\n",
      "\n",
      "\n",
      "https://news.naver.com/main/read.nhn?mode=LSD&mid=shm&sid1=105&oid=001&aid=0012175370\n",
      "\n",
      "가입 안했는데 청구서엔…\"통신분쟁사례집 참고하세요\"\n",
      "[방통위 통신분쟁조정위 '조정 사례집' 발간] # A씨는 B통신사에 휴대전화 서비스를 가입한 후 안내받은 것보다 높은 금액에 개통된 사실을 발견했다. 안 …\n",
      "\n",
      "머니투데이\n",
      "\n",
      "\n",
      "https://news.naver.com/main/read.nhn?mode=LSD&mid=shm&sid1=105&oid=008&aid=0004536906\n"
     ]
    }
   ],
   "source": [
    "data = soup.select('#main_content > div > div._persist > div > div > div.cluster_body > ul > li > div.cluster_text')\n",
    "for item in data :\n",
    "    print(item.get_text())\n",
    "    for link in item.find_all('a') : \n",
    "        print(link.get(\"href\"))"
   ]
  },
  {
   "cell_type": "markdown",
   "metadata": {},
   "source": [
    "# excel file 만들기"
   ]
  },
  {
   "cell_type": "code",
   "execution_count": null,
   "metadata": {},
   "outputs": [],
   "source": []
  }
 ],
 "metadata": {
  "kernelspec": {
   "display_name": "Python 3",
   "language": "python",
   "name": "python3"
  },
  "language_info": {
   "codemirror_mode": {
    "name": "ipython",
    "version": 3
   },
   "file_extension": ".py",
   "mimetype": "text/x-python",
   "name": "python",
   "nbconvert_exporter": "python",
   "pygments_lexer": "ipython3",
   "version": "3.8.3"
  }
 },
 "nbformat": 4,
 "nbformat_minor": 2
}
