{
 "cells": [
  {
   "cell_type": "code",
   "execution_count": 1,
   "metadata": {},
   "outputs": [],
   "source": [
    "import requests"
   ]
  },
  {
   "cell_type": "code",
   "execution_count": 2,
   "metadata": {},
   "outputs": [],
   "source": [
    "from bs4 import BeautifulSoup"
   ]
  },
  {
   "cell_type": "code",
   "execution_count": 3,
   "metadata": {},
   "outputs": [],
   "source": [
    "headers = {'User-Agent':'Mozilla/5.0 (Windows NT 6.3; Win64; x64) AppleWebKit/537.36 (KHTML, like Gecko) Chrome/63.0.3239.132 Safari/537.36'}\n",
    "url = 'https://finance.naver.com/sise/'"
   ]
  },
  {
   "cell_type": "code",
   "execution_count": 4,
   "metadata": {},
   "outputs": [],
   "source": [
    "res = requests.get(url,headers=headers)"
   ]
  },
  {
   "cell_type": "code",
   "execution_count": 5,
   "metadata": {},
   "outputs": [],
   "source": [
    "soup = BeautifulSoup(res.content,'html.parser')"
   ]
  },
  {
   "cell_type": "code",
   "execution_count": 8,
   "metadata": {},
   "outputs": [
    {
     "data": {
      "text/plain": [
       "[<li><a href=\"/world/sise.nhn?symbol=DJI@DJI&amp;fdtc=0\" onclick=\"clickcr(this,'wst.dow','','',event)\">다우산업</a><span class=\"dn\">25,864.78</span><em class=\"bu_p bu_pdn\"><span class=\"blind\">하락</span></em></li>,\n",
       " <li><a href=\"/world/sise.nhn?symbol=NAS@IXIC&amp;fdtc=0\" onclick=\"clickcr(this,'wst.nasdaq','','',event)\"> 나스닥</a><span class=\"dn\">8,575.62</span><em class=\"bu_p bu_pdn\"><span class=\"blind\">하락</span></em></li>,\n",
       " <li><a href=\"/world/sise.nhn?symbol=HSI@HSCE&amp;fdtc=0\" onclick=\"clickcr(this,'wst.hsce','','',event)\"> 홍콩H</a><span class=\"dn\">10,456.93</span><em class=\"bu_p bu_pdn\"><span class=\"blind\">하락</span></em></li>,\n",
       " <li><a href=\"/world/sise.nhn?symbol=SHS@000001&amp;fdtc=0\" onclick=\"clickcr(this,'wst.shs','','',event)\"> 상해종합</a><span class=\"dn\">3,034.51</span><em class=\"bu_p bu_pdn\"><span class=\"blind\">하락</span></em></li>,\n",
       " <li><a href=\"/world/sise.nhn?symbol=NII@NI225&amp;fdtc=0\" onclick=\"clickcr(this,'wst.ni225','','',event)\"> 니케이225</a><span class=\"dn\">19,874.30</span><em class=\"bu_p bu_pdn\"><span class=\"blind\">하락</span></em></li>]"
      ]
     },
     "execution_count": 8,
     "metadata": {},
     "output_type": "execute_result"
    }
   ],
   "source": [
    "data = soup.select('div.rgt > ul.lst_major > li')\n",
    "data"
   ]
  },
  {
   "cell_type": "code",
   "execution_count": 7,
   "metadata": {},
   "outputs": [
    {
     "name": "stdout",
     "output_type": "stream",
     "text": [
      "종목 이름 : <a href=\"/world/sise.nhn?symbol=DJI@DJI&amp;fdtc=0\" onclick=\"clickcr(this,'wst.dow','','',event)\">다우산업</a> | 현재 지수: <span class=\"dn\">25,864.78</span> <span class=\"dn\">25,864.78</span>\n",
      "종목 이름 : <a href=\"/world/sise.nhn?symbol=NAS@IXIC&amp;fdtc=0\" onclick=\"clickcr(this,'wst.nasdaq','','',event)\"> 나스닥</a> | 현재 지수: <span class=\"dn\">8,575.62</span> <span class=\"dn\">8,575.62</span>\n",
      "종목 이름 : <a href=\"/world/sise.nhn?symbol=HSI@HSCE&amp;fdtc=0\" onclick=\"clickcr(this,'wst.hsce','','',event)\"> 홍콩H</a> | 현재 지수: <span class=\"dn\">10,456.93</span> <span class=\"dn\">10,456.93</span>\n",
      "종목 이름 : <a href=\"/world/sise.nhn?symbol=SHS@000001&amp;fdtc=0\" onclick=\"clickcr(this,'wst.shs','','',event)\"> 상해종합</a> | 현재 지수: <span class=\"dn\">3,034.51</span> <span class=\"dn\">3,034.51</span>\n",
      "종목 이름 : <a href=\"/world/sise.nhn?symbol=NII@NI225&amp;fdtc=0\" onclick=\"clickcr(this,'wst.ni225','','',event)\"> 니케이225</a> | 현재 지수: <span class=\"dn\">19,874.30</span> <span class=\"dn\">19,874.30</span>\n"
     ]
    }
   ],
   "source": [
    "for item in data : \n",
    "    print(\"종목 이름 :\", item.find('a'),\"| 현재 지수:\",item.find('span'),item.find('span'))\n",
    "    "
   ]
  },
  {
   "cell_type": "code",
   "execution_count": null,
   "metadata": {},
   "outputs": [],
   "source": []
  }
 ],
 "metadata": {
  "kernelspec": {
   "display_name": "Python 3",
   "language": "python",
   "name": "python3"
  },
  "language_info": {
   "codemirror_mode": {
    "name": "ipython",
    "version": 3
   },
   "file_extension": ".py",
   "mimetype": "text/x-python",
   "name": "python",
   "nbconvert_exporter": "python",
   "pygments_lexer": "ipython3",
   "version": "3.7.4"
  }
 },
 "nbformat": 4,
 "nbformat_minor": 2
}
