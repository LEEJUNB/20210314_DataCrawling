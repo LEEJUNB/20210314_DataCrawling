{
 "cells": [
  {
   "cell_type": "code",
   "execution_count": 2,
   "metadata": {
    "scrolled": true
   },
   "outputs": [
    {
     "name": "stdout",
     "output_type": "stream",
     "text": [
      "Requirement already satisfied: beautifulsoup4 in c:\\users\\jbe\\anaconda3\\lib\\site-packages (4.8.0)\n",
      "Requirement already satisfied: soupsieve>=1.2 in c:\\users\\jbe\\anaconda3\\lib\\site-packages (from beautifulsoup4) (1.9.3)\n"
     ]
    }
   ],
   "source": [
    "!pip install beautifulsoup4"
   ]
  },
  {
   "cell_type": "code",
   "execution_count": 4,
   "metadata": {},
   "outputs": [
    {
     "name": "stdout",
     "output_type": "stream",
     "text": [
      "Requirement already satisfied: lxml in c:\\users\\jbe\\anaconda3\\lib\\site-packages (4.4.1)\n"
     ]
    }
   ],
   "source": [
    "!pip install lxml"
   ]
  },
  {
   "cell_type": "code",
   "execution_count": 10,
   "metadata": {},
   "outputs": [],
   "source": [
    "import requests\n",
    "from bs4 import BeautifulSoup"
   ]
  },
  {
   "cell_type": "code",
   "execution_count": 11,
   "metadata": {},
   "outputs": [],
   "source": [
    "url = \"https://comic.naver.com/webtoon/weekday.nhn\"\n",
    "res = requests.get(url)\n",
    "res.raise_for_status()"
   ]
  },
  {
   "cell_type": "code",
   "execution_count": 12,
   "metadata": {},
   "outputs": [
    {
     "name": "stdout",
     "output_type": "stream",
     "text": [
      "<title>네이버 만화 &gt; 요일별  웹툰 &gt; 전체웹툰</title>\n",
      "네이버 만화 > 요일별  웹툰 > 전체웹툰\n"
     ]
    }
   ],
   "source": [
    "# 가져온 html문서(res.text)를 lxml파서를 통해 BS객체를 만든 것\n",
    "soup = BeautifulSoup(res.text, \"lxml\")\n",
    "print(soup.title)\n",
    "print(soup.title.get_text()) # 태그뺴고 텍스트만"
   ]
  },
  {
   "cell_type": "code",
   "execution_count": 13,
   "metadata": {},
   "outputs": [
    {
     "name": "stdout",
     "output_type": "stream",
     "text": [
      "<a href=\"#menu\" onclick=\"document.getElementById('menu').tabIndex=-1;document.getElementById('menu').focus();return false;\"><span>메인 메뉴로 바로가기</span></a>\n"
     ]
    }
   ],
   "source": [
    "print(soup.a) # html태그 중 가장 상위에 있는 a태그만 출력"
   ]
  },
  {
   "cell_type": "code",
   "execution_count": 14,
   "metadata": {},
   "outputs": [
    {
     "name": "stdout",
     "output_type": "stream",
     "text": [
      "{'href': '#menu', 'onclick': \"document.getElementById('menu').tabIndex=-1;document.getElementById('menu').focus();return false;\"}\n"
     ]
    }
   ],
   "source": [
    "print(soup.a.attrs) # a태그의 속성 정보"
   ]
  },
  {
   "cell_type": "code",
   "execution_count": 15,
   "metadata": {},
   "outputs": [
    {
     "name": "stdout",
     "output_type": "stream",
     "text": [
      "#menu\n"
     ]
    }
   ],
   "source": [
    "#a태그의 href태그의 value정보 출력\n",
    "print(soup.a[\"href\"])"
   ]
  },
  {
   "cell_type": "code",
   "execution_count": 20,
   "metadata": {},
   "outputs": [
    {
     "name": "stdout",
     "output_type": "stream",
     "text": [
      "<a class=\"Nbtn_upload\" href=\"/mypage/myActivity.nhn\" onclick=\"nclk_v2(event,'olk.upload');\">웹툰 올리기</a>\n"
     ]
    }
   ],
   "source": [
    "# soup객체에서 a태그에 해당되는 첫번쨰 a태그 중에서 \n",
    "# class명이 Nbtn_upload 를 찾자\n",
    "print(soup.find(\"a\",attrs={\"class\":\"Nbtn_upload\"}))"
   ]
  },
  {
   "cell_type": "code",
   "execution_count": 22,
   "metadata": {},
   "outputs": [
    {
     "name": "stdout",
     "output_type": "stream",
     "text": [
      "<a class=\"Nbtn_upload\" href=\"/mypage/myActivity.nhn\" onclick=\"nclk_v2(event,'olk.upload');\">웹툰 올리기</a>\n"
     ]
    }
   ],
   "source": [
    "# 이 페이지에 웹툰 올리기는 하나뿐이므로 class : Nbtn_upload만으로 찾을 수 있다.\n",
    "print(soup.find(attrs={\"class\":\"Nbtn_upload\"}))"
   ]
  },
  {
   "cell_type": "code",
   "execution_count": 24,
   "metadata": {},
   "outputs": [
    {
     "name": "stdout",
     "output_type": "stream",
     "text": [
      "<li class=\"rank01\">\n",
      "<a href=\"/webtoon/detail.nhn?titleId=641253&amp;no=302\" onclick=\"nclk_v2(event,'rnk*p.cont','641253','1')\" title=\"외모지상주의-302화 김기명 [01]\">외모지상주의-302화 김기명 [01]</a>\n",
      "<span class=\"rankBox\">\n",
      "<img alt=\"변동없음\" height=\"10\" src=\"https://ssl.pstatic.net/static/comic/images/migration/common/arrow_no.gif\" title=\"변동없음\" width=\"7\"/> 0\n",
      "\t\t\t\t\t\t\n",
      "\t\t\t\t\t\n",
      "\t\t\t\t</span>\n",
      "</li>\n"
     ]
    }
   ],
   "source": [
    "# \"class\":\"rank01\"를 찾아보자 \n",
    "print(soup.find(attrs={\"class\":\"rank01\"}))"
   ]
  },
  {
   "cell_type": "code",
   "execution_count": 25,
   "metadata": {},
   "outputs": [
    {
     "name": "stdout",
     "output_type": "stream",
     "text": [
      "<a href=\"/webtoon/detail.nhn?titleId=641253&amp;no=302\" onclick=\"nclk_v2(event,'rnk*p.cont','641253','1')\" title=\"외모지상주의-302화 김기명 [01]\">외모지상주의-302화 김기명 [01]</a>\n"
     ]
    }
   ],
   "source": [
    "# \"class\":\"rank01\"에서 a엘리먼트만 출력해보자\n",
    "rank01 = soup.find(attrs={\"class\":\"rank01\"})\n",
    "print(rank01.a)"
   ]
  },
  {
   "cell_type": "code",
   "execution_count": 26,
   "metadata": {},
   "outputs": [
    {
     "name": "stdout",
     "output_type": "stream",
     "text": [
      "\n",
      "\n"
     ]
    }
   ],
   "source": [
    "print(rank01.next_sibling)"
   ]
  },
  {
   "cell_type": "code",
   "execution_count": 27,
   "metadata": {},
   "outputs": [
    {
     "name": "stdout",
     "output_type": "stream",
     "text": [
      "<li class=\"rank02\">\n",
      "<a href=\"/webtoon/detail.nhn?titleId=735661&amp;no=45\" onclick=\"nclk_v2(event,'rnk*p.cont','735661','2')\" title=\"재혼 황후-45화\">재혼 황후-45화</a>\n",
      "<span class=\"rankBox\">\n",
      "<img alt=\"변동없음\" height=\"10\" src=\"https://ssl.pstatic.net/static/comic/images/migration/common/arrow_no.gif\" title=\"변동없음\" width=\"7\"/> 0\n",
      "\t\t\t\t\t\t\n",
      "\t\t\t\t\t\n",
      "\t\t\t\t</span>\n",
      "</li>\n"
     ]
    }
   ],
   "source": [
    "print(rank01.next_sibling.next_sibling)"
   ]
  },
  {
   "cell_type": "code",
   "execution_count": 29,
   "metadata": {},
   "outputs": [
    {
     "name": "stdout",
     "output_type": "stream",
     "text": [
      "갓 오브 하이스쿨-477화\n"
     ]
    }
   ],
   "source": [
    "rank02 = rank01.next_sibling.next_sibling\n",
    "rank03 = rank02.next_sibling.next_sibling\n",
    "print(rank03.a.get_text())"
   ]
  },
  {
   "cell_type": "code",
   "execution_count": 30,
   "metadata": {},
   "outputs": [
    {
     "name": "stdout",
     "output_type": "stream",
     "text": [
      "재혼 황후-45화\n"
     ]
    }
   ],
   "source": [
    "rank02 = rank03.previous_sibling.previous_sibling\n",
    "print(rank02.a.get_text())"
   ]
  },
  {
   "cell_type": "code",
   "execution_count": 31,
   "metadata": {},
   "outputs": [
    {
     "name": "stdout",
     "output_type": "stream",
     "text": [
      "<ol class=\"asideBoxRank\" id=\"realTimeRankFavorite\">\n",
      "<li class=\"rank01\">\n",
      "<a href=\"/webtoon/detail.nhn?titleId=641253&amp;no=302\" onclick=\"nclk_v2(event,'rnk*p.cont','641253','1')\" title=\"외모지상주의-302화 김기명 [01]\">외모지상주의-302화 김기명 [01]</a>\n",
      "<span class=\"rankBox\">\n",
      "<img alt=\"변동없음\" height=\"10\" src=\"https://ssl.pstatic.net/static/comic/images/migration/common/arrow_no.gif\" title=\"변동없음\" width=\"7\"/> 0\n",
      "\t\t\t\t\t\t\n",
      "\t\t\t\t\t\n",
      "\t\t\t\t</span>\n",
      "</li>\n",
      "<li class=\"rank02\">\n",
      "<a href=\"/webtoon/detail.nhn?titleId=735661&amp;no=45\" onclick=\"nclk_v2(event,'rnk*p.cont','735661','2')\" title=\"재혼 황후-45화\">재혼 황후-45화</a>\n",
      "<span class=\"rankBox\">\n",
      "<img alt=\"변동없음\" height=\"10\" src=\"https://ssl.pstatic.net/static/comic/images/migration/common/arrow_no.gif\" title=\"변동없음\" width=\"7\"/> 0\n",
      "\t\t\t\t\t\t\n",
      "\t\t\t\t\t\n",
      "\t\t\t\t</span>\n",
      "</li>\n",
      "<li class=\"rank03\">\n",
      "<a href=\"/webtoon/detail.nhn?titleId=318995&amp;no=481\" onclick=\"nclk_v2(event,'rnk*p.cont','318995','3')\" title=\"갓 오브 하이스쿨-477화\">갓 오브 하이스쿨-477화</a>\n",
      "<span class=\"rankBox\">\n",
      "<img alt=\"변동없음\" height=\"10\" src=\"https://ssl.pstatic.net/static/comic/images/migration/common/arrow_no.gif\" title=\"변동없음\" width=\"7\"/> 0\n",
      "\t\t\t\t\t\t\n",
      "\t\t\t\t\t\n",
      "\t\t\t\t</span>\n",
      "</li>\n",
      "<li class=\"rank04\">\n",
      "<a href=\"/webtoon/detail.nhn?titleId=712362&amp;no=86\" onclick=\"nclk_v2(event,'rnk*p.cont','712362','4')\" title=\"개를 낳았다-시즌2 15화\">개를 낳았다-시즌2 15화</a>\n",
      "<span class=\"rankBox\">\n",
      "<img alt=\"변동없음\" height=\"10\" src=\"https://ssl.pstatic.net/static/comic/images/migration/common/arrow_no.gif\" title=\"변동없음\" width=\"7\"/> 0\n",
      "\t\t\t\t\t\t\n",
      "\t\t\t\t\t\n",
      "\t\t\t\t</span>\n",
      "</li>\n",
      "<li class=\"rank05\">\n",
      "<a href=\"/webtoon/detail.nhn?titleId=752803&amp;no=2\" onclick=\"nclk_v2(event,'rnk*p.cont','752803','5')\" title=\"관계의 종말-2화\">관계의 종말-2화</a>\n",
      "<span class=\"rankBox\">\n",
      "<img alt=\"변동없음\" height=\"10\" src=\"https://ssl.pstatic.net/static/comic/images/migration/common/arrow_no.gif\" title=\"변동없음\" width=\"7\"/> 0\n",
      "\t\t\t\t\t\t\n",
      "\t\t\t\t\t\n",
      "\t\t\t\t</span>\n",
      "</li>\n",
      "<li class=\"rank06\">\n",
      "<a href=\"/webtoon/detail.nhn?titleId=725586&amp;no=77\" onclick=\"nclk_v2(event,'rnk*p.cont','725586','6')\" title=\"1초-76화\">1초-76화</a>\n",
      "<span class=\"rankBox\">\n",
      "<img alt=\"변동없음\" height=\"10\" src=\"https://ssl.pstatic.net/static/comic/images/migration/common/arrow_no.gif\" title=\"변동없음\" width=\"7\"/> 0\n",
      "\t\t\t\t\t\t\n",
      "\t\t\t\t\t\n",
      "\t\t\t\t</span>\n",
      "</li>\n",
      "<li class=\"rank07\">\n",
      "<a href=\"/webtoon/detail.nhn?titleId=700844&amp;no=144\" onclick=\"nclk_v2(event,'rnk*p.cont','700844','7')\" title=\"걸어서 30분-144화 크리스마스에 뭐해?\">걸어서 30분-144화 크리스마스에 뭐해?</a>\n",
      "<span class=\"rankBox\">\n",
      "<img alt=\"변동없음\" height=\"10\" src=\"https://ssl.pstatic.net/static/comic/images/migration/common/arrow_no.gif\" title=\"변동없음\" width=\"7\"/> 0\n",
      "\t\t\t\t\t\t\n",
      "\t\t\t\t\t\n",
      "\t\t\t\t</span>\n",
      "</li>\n",
      "<li class=\"rank08\">\n",
      "<a href=\"/webtoon/detail.nhn?titleId=748534&amp;no=10\" onclick=\"nclk_v2(event,'rnk*p.cont','748534','8')\" title=\"구남친이 내게 반했다-10화\">구남친이 내게 반했다-10화</a>\n",
      "<span class=\"rankBox\">\n",
      "<img alt=\"변동없음\" height=\"10\" src=\"https://ssl.pstatic.net/static/comic/images/migration/common/arrow_no.gif\" title=\"변동없음\" width=\"7\"/> 0\n",
      "\t\t\t\t\t\t\n",
      "\t\t\t\t\t\n",
      "\t\t\t\t</span>\n",
      "</li>\n",
      "<li class=\"rank09\">\n",
      "<a href=\"/webtoon/detail.nhn?titleId=710754&amp;no=118\" onclick=\"nclk_v2(event,'rnk*p.cont','710754','9')\" title=\"화장 지워주는 남자-118화\">화장 지워주는 남자-118화</a>\n",
      "<span class=\"rankBox\">\n",
      "<img alt=\"변동없음\" height=\"10\" src=\"https://ssl.pstatic.net/static/comic/images/migration/common/arrow_no.gif\" title=\"변동없음\" width=\"7\"/> 0\n",
      "\t\t\t\t\t\t\n",
      "\t\t\t\t\t\n",
      "\t\t\t\t</span>\n",
      "</li>\n",
      "<li class=\"rank10\">\n",
      "<a href=\"/webtoon/detail.nhn?titleId=751013&amp;no=14\" onclick=\"nclk_v2(event,'rnk*p.cont','751013','10')\" title=\"2020 최애캐의 MBTI-14화 &lt;내일&gt; 저승사자 mbti\">2020 최애캐의 MBTI-14화 &lt;내일&gt; 저승사자 mbti</a>\n",
      "<span class=\"rankBox\">\n",
      "<img alt=\"변동없음\" height=\"10\" src=\"https://ssl.pstatic.net/static/comic/images/migration/common/arrow_no.gif\" title=\"변동없음\" width=\"7\"/> 0\n",
      "\t\t\t\t\t\t\n",
      "\t\t\t\t\t\n",
      "\t\t\t\t</span>\n",
      "</li>\n",
      "</ol>\n"
     ]
    }
   ],
   "source": [
    "print(rank01.parent)"
   ]
  },
  {
   "cell_type": "code",
   "execution_count": 35,
   "metadata": {},
   "outputs": [
    {
     "name": "stdout",
     "output_type": "stream",
     "text": [
      "갓 오브 하이스쿨-477화\n"
     ]
    }
   ],
   "source": [
    "# 이전에는 줄바꿈이 있는 경우 next_sibling을 두번 썼다.\n",
    "# 하지만 다음 코드를 쓰면 한번에 출력할 수 있다.\n",
    "rank03 = rank02.find_next_sibling(\"li\")\n",
    "print(rank03.a.get_text())"
   ]
  },
  {
   "cell_type": "code",
   "execution_count": 42,
   "metadata": {},
   "outputs": [
    {
     "ename": "AttributeError",
     "evalue": "ResultSet object has no attribute 'a'. You're probably treating a list of items like a single item. Did you call find_all() when you meant to call find()?",
     "output_type": "error",
     "traceback": [
      "\u001b[1;31m---------------------------------------------------------------------------\u001b[0m",
      "\u001b[1;31mAttributeError\u001b[0m                            Traceback (most recent call last)",
      "\u001b[1;32m<ipython-input-42-e735229eac1a>\u001b[0m in \u001b[0;36m<module>\u001b[1;34m\u001b[0m\n\u001b[0;32m      1\u001b[0m \u001b[0mrank_all\u001b[0m \u001b[1;33m=\u001b[0m \u001b[0mrank01\u001b[0m\u001b[1;33m.\u001b[0m\u001b[0mfind_next_siblings\u001b[0m\u001b[1;33m(\u001b[0m\u001b[1;34m\"li\"\u001b[0m\u001b[1;33m)\u001b[0m\u001b[1;33m\u001b[0m\u001b[1;33m\u001b[0m\u001b[0m\n\u001b[1;32m----> 2\u001b[1;33m \u001b[0mprint\u001b[0m\u001b[1;33m(\u001b[0m\u001b[0mrank_all\u001b[0m\u001b[1;33m.\u001b[0m\u001b[0ma\u001b[0m\u001b[1;33m.\u001b[0m\u001b[0mget_text\u001b[0m\u001b[1;33m(\u001b[0m\u001b[1;33m)\u001b[0m\u001b[1;33m)\u001b[0m\u001b[1;33m\u001b[0m\u001b[1;33m\u001b[0m\u001b[0m\n\u001b[0m",
      "\u001b[1;32m~\\Anaconda3\\lib\\site-packages\\bs4\\element.py\u001b[0m in \u001b[0;36m__getattr__\u001b[1;34m(self, key)\u001b[0m\n\u001b[0;32m   1576\u001b[0m     \u001b[1;32mdef\u001b[0m \u001b[0m__getattr__\u001b[0m\u001b[1;33m(\u001b[0m\u001b[0mself\u001b[0m\u001b[1;33m,\u001b[0m \u001b[0mkey\u001b[0m\u001b[1;33m)\u001b[0m\u001b[1;33m:\u001b[0m\u001b[1;33m\u001b[0m\u001b[1;33m\u001b[0m\u001b[0m\n\u001b[0;32m   1577\u001b[0m         raise AttributeError(\n\u001b[1;32m-> 1578\u001b[1;33m             \u001b[1;34m\"ResultSet object has no attribute '%s'. You're probably treating a list of items like a single item. Did you call find_all() when you meant to call find()?\"\u001b[0m \u001b[1;33m%\u001b[0m \u001b[0mkey\u001b[0m\u001b[1;33m\u001b[0m\u001b[1;33m\u001b[0m\u001b[0m\n\u001b[0m\u001b[0;32m   1579\u001b[0m         )\n",
      "\u001b[1;31mAttributeError\u001b[0m: ResultSet object has no attribute 'a'. You're probably treating a list of items like a single item. Did you call find_all() when you meant to call find()?"
     ]
    }
   ],
   "source": [
    "rank_all = rank01.find_next_siblings(\"li\")\n",
    "print(rank_all.a.get_text())"
   ]
  },
  {
   "cell_type": "code",
   "execution_count": 44,
   "metadata": {
    "scrolled": true
   },
   "outputs": [
    {
     "name": "stdout",
     "output_type": "stream",
     "text": [
      "[<li class=\"rank02\">\n",
      "<a href=\"/webtoon/detail.nhn?titleId=735661&amp;no=45\" onclick=\"nclk_v2(event,'rnk*p.cont','735661','2')\" title=\"재혼 황후-45화\">재혼 황후-45화</a>\n",
      "<span class=\"rankBox\">\n",
      "<img alt=\"변동없음\" height=\"10\" src=\"https://ssl.pstatic.net/static/comic/images/migration/common/arrow_no.gif\" title=\"변동없음\" width=\"7\"/> 0\n",
      "\t\t\t\t\t\t\n",
      "\t\t\t\t\t\n",
      "\t\t\t\t</span>\n",
      "</li>, <li class=\"rank03\">\n",
      "<a href=\"/webtoon/detail.nhn?titleId=318995&amp;no=481\" onclick=\"nclk_v2(event,'rnk*p.cont','318995','3')\" title=\"갓 오브 하이스쿨-477화\">갓 오브 하이스쿨-477화</a>\n",
      "<span class=\"rankBox\">\n",
      "<img alt=\"변동없음\" height=\"10\" src=\"https://ssl.pstatic.net/static/comic/images/migration/common/arrow_no.gif\" title=\"변동없음\" width=\"7\"/> 0\n",
      "\t\t\t\t\t\t\n",
      "\t\t\t\t\t\n",
      "\t\t\t\t</span>\n",
      "</li>, <li class=\"rank04\">\n",
      "<a href=\"/webtoon/detail.nhn?titleId=712362&amp;no=86\" onclick=\"nclk_v2(event,'rnk*p.cont','712362','4')\" title=\"개를 낳았다-시즌2 15화\">개를 낳았다-시즌2 15화</a>\n",
      "<span class=\"rankBox\">\n",
      "<img alt=\"변동없음\" height=\"10\" src=\"https://ssl.pstatic.net/static/comic/images/migration/common/arrow_no.gif\" title=\"변동없음\" width=\"7\"/> 0\n",
      "\t\t\t\t\t\t\n",
      "\t\t\t\t\t\n",
      "\t\t\t\t</span>\n",
      "</li>, <li class=\"rank05\">\n",
      "<a href=\"/webtoon/detail.nhn?titleId=752803&amp;no=2\" onclick=\"nclk_v2(event,'rnk*p.cont','752803','5')\" title=\"관계의 종말-2화\">관계의 종말-2화</a>\n",
      "<span class=\"rankBox\">\n",
      "<img alt=\"변동없음\" height=\"10\" src=\"https://ssl.pstatic.net/static/comic/images/migration/common/arrow_no.gif\" title=\"변동없음\" width=\"7\"/> 0\n",
      "\t\t\t\t\t\t\n",
      "\t\t\t\t\t\n",
      "\t\t\t\t</span>\n",
      "</li>, <li class=\"rank06\">\n",
      "<a href=\"/webtoon/detail.nhn?titleId=725586&amp;no=77\" onclick=\"nclk_v2(event,'rnk*p.cont','725586','6')\" title=\"1초-76화\">1초-76화</a>\n",
      "<span class=\"rankBox\">\n",
      "<img alt=\"변동없음\" height=\"10\" src=\"https://ssl.pstatic.net/static/comic/images/migration/common/arrow_no.gif\" title=\"변동없음\" width=\"7\"/> 0\n",
      "\t\t\t\t\t\t\n",
      "\t\t\t\t\t\n",
      "\t\t\t\t</span>\n",
      "</li>, <li class=\"rank07\">\n",
      "<a href=\"/webtoon/detail.nhn?titleId=700844&amp;no=144\" onclick=\"nclk_v2(event,'rnk*p.cont','700844','7')\" title=\"걸어서 30분-144화 크리스마스에 뭐해?\">걸어서 30분-144화 크리스마스에 뭐해?</a>\n",
      "<span class=\"rankBox\">\n",
      "<img alt=\"변동없음\" height=\"10\" src=\"https://ssl.pstatic.net/static/comic/images/migration/common/arrow_no.gif\" title=\"변동없음\" width=\"7\"/> 0\n",
      "\t\t\t\t\t\t\n",
      "\t\t\t\t\t\n",
      "\t\t\t\t</span>\n",
      "</li>, <li class=\"rank08\">\n",
      "<a href=\"/webtoon/detail.nhn?titleId=748534&amp;no=10\" onclick=\"nclk_v2(event,'rnk*p.cont','748534','8')\" title=\"구남친이 내게 반했다-10화\">구남친이 내게 반했다-10화</a>\n",
      "<span class=\"rankBox\">\n",
      "<img alt=\"변동없음\" height=\"10\" src=\"https://ssl.pstatic.net/static/comic/images/migration/common/arrow_no.gif\" title=\"변동없음\" width=\"7\"/> 0\n",
      "\t\t\t\t\t\t\n",
      "\t\t\t\t\t\n",
      "\t\t\t\t</span>\n",
      "</li>, <li class=\"rank09\">\n",
      "<a href=\"/webtoon/detail.nhn?titleId=710754&amp;no=118\" onclick=\"nclk_v2(event,'rnk*p.cont','710754','9')\" title=\"화장 지워주는 남자-118화\">화장 지워주는 남자-118화</a>\n",
      "<span class=\"rankBox\">\n",
      "<img alt=\"변동없음\" height=\"10\" src=\"https://ssl.pstatic.net/static/comic/images/migration/common/arrow_no.gif\" title=\"변동없음\" width=\"7\"/> 0\n",
      "\t\t\t\t\t\t\n",
      "\t\t\t\t\t\n",
      "\t\t\t\t</span>\n",
      "</li>, <li class=\"rank10\">\n",
      "<a href=\"/webtoon/detail.nhn?titleId=751013&amp;no=14\" onclick=\"nclk_v2(event,'rnk*p.cont','751013','10')\" title=\"2020 최애캐의 MBTI-14화 &lt;내일&gt; 저승사자 mbti\">2020 최애캐의 MBTI-14화 &lt;내일&gt; 저승사자 mbti</a>\n",
      "<span class=\"rankBox\">\n",
      "<img alt=\"변동없음\" height=\"10\" src=\"https://ssl.pstatic.net/static/comic/images/migration/common/arrow_no.gif\" title=\"변동없음\" width=\"7\"/> 0\n",
      "\t\t\t\t\t\t\n",
      "\t\t\t\t\t\n",
      "\t\t\t\t</span>\n",
      "</li>]\n"
     ]
    }
   ],
   "source": [
    "rank_all = rank01.find_next_siblings(\"li\")\n",
    "print(rank_all)"
   ]
  },
  {
   "cell_type": "code",
   "execution_count": 45,
   "metadata": {},
   "outputs": [
    {
     "name": "stdout",
     "output_type": "stream",
     "text": [
      "<a href=\"/webtoon/detail.nhn?titleId=710754&amp;no=118\" onclick=\"nclk_v2(event,'rnk*p.cont','710754','9')\" title=\"화장 지워주는 남자-118화\">화장 지워주는 남자-118화</a>\n"
     ]
    }
   ],
   "source": [
    "webtoon = soup.find(\"a\", text=\"화장 지워주는 남자-118화\")\n",
    "print(webtoon)"
   ]
  },
  {
   "cell_type": "code",
   "execution_count": null,
   "metadata": {},
   "outputs": [],
   "source": []
  }
 ],
 "metadata": {
  "hide_input": false,
  "kernelspec": {
   "display_name": "Python 3",
   "language": "python",
   "name": "python3"
  },
  "language_info": {
   "codemirror_mode": {
    "name": "ipython",
    "version": 3
   },
   "file_extension": ".py",
   "mimetype": "text/x-python",
   "name": "python",
   "nbconvert_exporter": "python",
   "pygments_lexer": "ipython3",
   "version": "3.7.4"
  }
 },
 "nbformat": 4,
 "nbformat_minor": 2
}
