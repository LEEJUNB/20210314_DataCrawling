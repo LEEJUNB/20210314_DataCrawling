{
 "cells": [
  {
   "cell_type": "code",
   "execution_count": 38,
   "metadata": {},
   "outputs": [],
   "source": [
    "import requests\n",
    "import time"
   ]
  },
  {
   "cell_type": "code",
   "execution_count": 39,
   "metadata": {},
   "outputs": [],
   "source": [
    "from bs4 import BeautifulSoup"
   ]
  },
  {
   "cell_type": "code",
   "execution_count": 40,
   "metadata": {},
   "outputs": [],
   "source": [
    "headers = {'User-Agent':'Mozilla/5.0 (Windows NT 6.3; Win64; x64) AppleWebKit/537.36 (KHTML, like Gecko) Chrome/63.0.3239.132 Safari/537.36'}\n",
    "url = 'https://datalab.naver.com/keyword/realtimeList.naver?where=main'\n",
    "\n",
    "res = requests.get(url,headers=headers)\n",
    "soup = BeautifulSoup(res.content, 'html.parser')"
   ]
  },
  {
   "cell_type": "code",
   "execution_count": 41,
   "metadata": {},
   "outputs": [],
   "source": [
    "mydata2 = soup.find_all('div','item_box')"
   ]
  },
  {
   "cell_type": "code",
   "execution_count": 46,
   "metadata": {},
   "outputs": [
    {
     "name": "stdout",
     "output_type": "stream",
     "text": [
      "네이버 실시간 검색어 Sat Jun  6 16:12:27 2020\n",
      "1위 : 강진성\n",
      "관련 검색어 :\n",
      "2위 : 지소울\n",
      "관련 검색어 :\n",
      "3위 : 이영하 선우은숙\n",
      "관련 검색어 :선우은숙나이,\n",
      "4위 : 이영하\n",
      "관련 검색어 :\n",
      "5위 : 선우은숙\n",
      "관련 검색어 :\n",
      "6위 : 베놈\n",
      "관련 검색어 :\n",
      "7위 : 디벨롭\n",
      "관련 검색어 :\n",
      "8위 : 김연경\n",
      "관련 검색어 :\n",
      "9위 : 큰나무교회\n",
      "관련 검색어 :용인 큰나무교회\n",
      "10위 : 당연한것들\n",
      "관련 검색어 :\n",
      "11위 : 나혼자산다 이시언 하차\n",
      "관련 검색어 :\n",
      "12위 : 2020 백상예술대상 축하공연\n",
      "관련 검색어 :\n",
      "13위 : 두문불출\n",
      "관련 검색어 :\n",
      "14위 : 송파구청\n",
      "관련 검색어 :\n",
      "15위 : 백상예술대상\n",
      "관련 검색어 :2020 백상예술대상\n",
      "16위 : 현충일\n",
      "관련 검색어 :\n",
      "17위 : 암살\n",
      "관련 검색어 :\n",
      "18위 : 백지영 나이\n",
      "관련 검색어 :\n",
      "19위 : 정보처리기사\n",
      "관련 검색어 :\n",
      "20위 : 손담비\n",
      "관련 검색어 :\n"
     ]
    }
   ],
   "source": [
    "print('네이버 실시간 검색어', time.strftime('%c', time.localtime(time.time())))\n",
    "for item in mydata2 :\n",
    "    list_item = item.get_text().split('\\n')\n",
    "    print(list_item[1]+'위 : '+list_item[3]+'\\n관련 검색어 :'+list_item[5].strip())"
   ]
  },
  {
   "cell_type": "code",
   "execution_count": null,
   "metadata": {},
   "outputs": [],
   "source": []
  }
 ],
 "metadata": {
  "hide_input": false,
  "kernelspec": {
   "display_name": "Python 3",
   "language": "python",
   "name": "python3"
  },
  "language_info": {
   "codemirror_mode": {
    "name": "ipython",
    "version": 3
   },
   "file_extension": ".py",
   "mimetype": "text/x-python",
   "name": "python",
   "nbconvert_exporter": "python",
   "pygments_lexer": "ipython3",
   "version": "3.7.4"
  }
 },
 "nbformat": 4,
 "nbformat_minor": 2
}
