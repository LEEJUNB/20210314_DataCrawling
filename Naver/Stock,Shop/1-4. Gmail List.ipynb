{
 "cells": [
  {
   "cell_type": "code",
   "execution_count": 33,
   "metadata": {},
   "outputs": [],
   "source": [
    "import requests\n",
    "from bs4 import BeautifulSoup"
   ]
  },
  {
   "cell_type": "code",
   "execution_count": 34,
   "metadata": {},
   "outputs": [],
   "source": [
    "headers = {'User-Agent':'Mozilla/5.0 (Windows NT 6.3; Win64; x64) AppleWebKit/537.36 (KHTML, like Gecko) Chrome/63.0.3239.132 Safari/537.36'}\n",
    "url = 'https://mail.google.com/mail/u/0/?tab=rm&ogbl#inbox'"
   ]
  },
  {
   "cell_type": "code",
   "execution_count": 35,
   "metadata": {},
   "outputs": [],
   "source": [
    "res = requests.get(url,headers=headers)\n",
    "soup = BeautifulSoup(res.content,'html.parser')"
   ]
  },
  {
   "cell_type": "markdown",
   "metadata": {},
   "source": [
    "# Q) 계속 빈리스트만 만들어짐 원인이 뭘까?"
   ]
  },
  {
   "cell_type": "code",
   "execution_count": 38,
   "metadata": {},
   "outputs": [
    {
     "name": "stdout",
     "output_type": "stream",
     "text": [
      "[]\n"
     ]
    }
   ],
   "source": [
    "# 단순 지메일에 온 메일 목록들을 추출 But 빈리스트만 나옴\n",
    "data = soup.find_all('tr','zA')\n",
    "print(data)"
   ]
  },
  {
   "cell_type": "markdown",
   "metadata": {},
   "source": [
    "# select\n",
    "#### 추출할 것 : 제목, 내용, 링크\n",
    "#### 방법 :\n",
    "(0. 뽑을 자료 전체를 포괄하는 변수를 만듦)\n",
    "1. 추출할 컨텐츠는 동일한 태그에 들어있다. find_all사용, 속성 style태그로 추출항목 지정, 만약 style태그가 없다면 select로 지정하자\n",
    "2. 제목따로 링크따로 본문따로 변수에 저장\n",
    "3. print문으로 간단하게 출력해보고 어떤 arr구조를 가지고 있는지를 파악한다\n",
    "4. 이 후 print문에 제목,링크,내용을 따로 string을 추가한 뒤 arr[]을 넣어서 추출하자"
   ]
  },
  {
   "cell_type": "code",
   "execution_count": 36,
   "metadata": {},
   "outputs": [
    {
     "name": "stdout",
     "output_type": "stream",
     "text": [
      "[]\n"
     ]
    }
   ],
   "source": [
    "wholeData = soup.select('div.adn.ads') # 전체 포괄하는 변수\n",
    "print(wholeData)"
   ]
  },
  {
   "cell_type": "code",
   "execution_count": 23,
   "metadata": {},
   "outputs": [
    {
     "name": "stdout",
     "output_type": "stream",
     "text": [
      "[]\n"
     ]
    }
   ],
   "source": [
    "titleData = soup.select('#\\:nt > div:nth-child(2) > div:nth-child(2) > div:nth-child(2) > div:nth-child(2) > table:nth-child(2) > tbody > tr:nth-child(4) > td:nth-child(2) > div > span > a > span')# 모든 제목 추출하기\n",
    "print(titleData)"
   ]
  },
  {
   "cell_type": "markdown",
   "metadata": {},
   "source": [
    "# find, find_all"
   ]
  },
  {
   "cell_type": "code",
   "execution_count": 31,
   "metadata": {},
   "outputs": [],
   "source": [
    "wholeData = soup.find()"
   ]
  },
  {
   "cell_type": "markdown",
   "metadata": {},
   "source": [
    "# Q) 구글에 로그인이 되어있지만 개인 계정에 있는 것을 추출하는 것이라 빈리스트만 뜨는 것인가? \n",
    "## A) 우선 공개 자료를 기준으로 추출하자. \n",
    "## A) 그 후 로그인, 지메일 접속 자동화를 학습한 뒤 여기에 추출코드를 삽입하자"
   ]
  },
  {
   "cell_type": "code",
   "execution_count": null,
   "metadata": {},
   "outputs": [],
   "source": []
  }
 ],
 "metadata": {
  "kernelspec": {
   "display_name": "Python 3",
   "language": "python",
   "name": "python3"
  },
  "language_info": {
   "codemirror_mode": {
    "name": "ipython",
    "version": 3
   },
   "file_extension": ".py",
   "mimetype": "text/x-python",
   "name": "python",
   "nbconvert_exporter": "python",
   "pygments_lexer": "ipython3",
   "version": "3.8.3"
  }
 },
 "nbformat": 4,
 "nbformat_minor": 2
}
