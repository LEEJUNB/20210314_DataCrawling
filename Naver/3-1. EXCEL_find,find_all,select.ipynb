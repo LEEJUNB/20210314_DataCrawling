{
 "cells": [
  {
   "cell_type": "markdown",
   "metadata": {},
   "source": [
    "# 1. 크롤링을 위한 기초 설정"
   ]
  },
  {
   "cell_type": "code",
   "execution_count": 24,
   "metadata": {},
   "outputs": [],
   "source": [
    "import requests\n",
    "from bs4 import BeautifulSoup\n",
    "headers = {'User-Agent':'Mozilla/5.0 (Windows NT 6.3; Win64; x64) AppleWebKit/537.36 (KHTML, like Gecko) Chrome/63.0.3239.132 Safari/537.36'}"
   ]
  },
  {
   "cell_type": "markdown",
   "metadata": {},
   "source": [
    "# 2. 엑셀화를 위한 설정"
   ]
  },
  {
   "cell_type": "code",
   "execution_count": 25,
   "metadata": {},
   "outputs": [],
   "source": [
    "import openpyxl\n",
    "excel_file = openpyxl.Workbook()\n",
    "excel_sheet = excel_file.active"
   ]
  },
  {
   "cell_type": "markdown",
   "metadata": {},
   "source": [
    "# find, find_all로 찾기\n",
    "- Q-1) #section_body > ul.type06_headline > li > dl > dt > a\n",
    "- Q-1) 위 태그에서 a를 뽑아야 한다. find -> find_all을 통해서 상세하게 추출해야만 한다.\n",
    "- Q-1) 그렇다면 위에서 find함수를 선언할 태그는? ul일까 section일까\n",
    "-  \n",
    "- Q-2) find함수에서 id를 쓰려면? \n",
    "- A-2) id = ''으로 사용하라고 했는데 아닌 것 같다\n",
    "-  \n",
    "- Q-3) find, find_all함수의 변수 타입은?\n",
    "- A-3) find는 bs4.element.Tag이며 find_all은 bs4.element.ResultSet이다."
   ]
  },
  {
   "cell_type": "markdown",
   "metadata": {},
   "source": [
    "# select로 찾기\n",
    "- New) 다른 사이트를 뽑아보자. 무엇이 잘못된 것인지 파악해보자"
   ]
  },
  {
   "cell_type": "code",
   "execution_count": 42,
   "metadata": {},
   "outputs": [],
   "source": [
    "for index in range(1,6):\n",
    "    res = requests.get(\"https://www.clien.net/service/board/park?&od=T31&po=\"+ str(index),headers=headers)\n",
    "    soup = BeautifulSoup(res.content,\"html.parser\")\n",
    "    \n",
    "    #data = soup.find('div',id='section_body')\n",
    "    #alldData = data.find_all('ul','type06_headline')\n",
    "    allData = soup.select('#div_content > div.list_content > div > div.list_title > a.list_subject > span')\n",
    "    for item in allData : \n",
    "        excel_sheet.append([item.get_text()])\n",
    "excel_file.save('New.xlsx')\n",
    "excel_file.close()"
   ]
  },
  {
   "cell_type": "markdown",
   "metadata": {},
   "source": [
    "### 개별 테스트하기"
   ]
  },
  {
   "cell_type": "code",
   "execution_count": 40,
   "metadata": {},
   "outputs": [],
   "source": [
    "for index in range(1,6):\n",
    "    res = requests.get(\"https://www.clien.net/service/board/park?&od=T31&po=\"+ str(index),headers=headers)\n",
    "    soup = BeautifulSoup(res.content,\"html.parser\")"
   ]
  },
  {
   "cell_type": "code",
   "execution_count": 47,
   "metadata": {},
   "outputs": [
    {
     "name": "stdout",
     "output_type": "stream",
     "text": [
      "'외국 친구들이 그래요, 한국 정부 욕하는 사람들은 한국인 뿐이라고'\n",
      "코로나-19 관련 대한민국 VS 일본은 이렇게 비유하면 되나요?\n",
      "서울 백병원 모녀 문제, 진료 거부 부분도 확인 해야죠.\n",
      "대구는 대략 나이로 정치 성향이 갈립니다.\n",
      "마스크 두 번째 구매 완료 (난이도 하)\n",
      "명분 보다는 실리라고 생각 합니다.\n",
      "주말에 홍합파티했네요\n",
      "박능후 장관 까는 세계일보..\n",
      "TK는 과거의 유물입니다.\n",
      "일본의 고비는 이번주가 될 것 같군요\n",
      "대구경북 화이팅 입니다\n",
      "이란 코로나 집계는 좀 이상하네요\n",
      "호사카 유지 교수님 기사를 찾아보니 뜻 깊은 구절이 있네요.\n",
      "주식 선물이 무서운 이유 .link\n",
      "스팸전화도 예의를 갖춰 거절하시나요?\n",
      "대사 증후군에 관하여..... ( 몸속 물질 변환 )\n",
      "근데 왜 TK라 그러는거죠?\n",
      "일본, 사망자 감염 숨기더니···WHO발표하자 뒤늦은 공개 논란\n",
      "틀림을 인정하는게 쉽지 않지요.\n",
      "알릴레오 마스크 비례 듣고가세요\n",
      "풀플레이트 아머 구입한 유부남 근황.jpg\n",
      "99% 사람들은 구별 못하는 사진.jpg\n",
      "이태리는 진짜 심각해보이네요\n",
      "[속보]'코로나19' 어제 확진자 248명 추가..총 감염자 수 7382명\n",
      "정부 마스크 수급안정화 대책 적절 54.7%\n",
      "약국서 공적마스크 현금결재만 되는곳도 많네요\n",
      "갑자기 TK 비하한다는 뇌피셜 보니 TK지역이 수상한가 보군요.\n",
      "김경수 '내수시장 살려야.. 전 국민 재난기본소득 100만 원' 제안\n",
      "상식적인 tk분들 힘내십시요. 다들 이겨냅시다요.\n",
      "서울서 노닥거린지 두달이 넘었는데\n"
     ]
    }
   ],
   "source": [
    "allData = soup.select('#div_content > div.list_content > div > div.list_title > a.list_subject > span')\n",
    "for item in allData : \n",
    "    print(item.get_text())"
   ]
  },
  {
   "cell_type": "code",
   "execution_count": null,
   "metadata": {},
   "outputs": [],
   "source": []
  }
 ],
 "metadata": {
  "kernelspec": {
   "display_name": "Python 3",
   "language": "python",
   "name": "python3"
  },
  "language_info": {
   "codemirror_mode": {
    "name": "ipython",
    "version": 3
   },
   "file_extension": ".py",
   "mimetype": "text/x-python",
   "name": "python",
   "nbconvert_exporter": "python",
   "pygments_lexer": "ipython3",
   "version": "3.7.4"
  }
 },
 "nbformat": 4,
 "nbformat_minor": 2
}
