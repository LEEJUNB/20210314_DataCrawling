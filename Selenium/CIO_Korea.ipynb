{
 "cells": [
  {
   "cell_type": "markdown",
   "metadata": {},
   "source": [
    "# CIO Korea 메인 뉴스 수집\n",
    "- "
   ]
  },
  {
   "cell_type": "code",
   "execution_count": 13,
   "metadata": {},
   "outputs": [],
   "source": [
    "from urllib.request import urlopen\n",
    "from urllib.parse import quote_plus as qp # 아스키코드로 변환\n",
    "from bs4 import BeautifulSoup\n",
    "from selenium import webdriver\n",
    "import time\n",
    "import csv\n",
    "import datetime"
   ]
  },
  {
   "cell_type": "code",
   "execution_count": 4,
   "metadata": {},
   "outputs": [],
   "source": [
    "url = 'https://www.ciokorea.com/main/'\n",
    "\n",
    "driver = webdriver.Chrome()\n",
    "driver.get(url)\n",
    "time.sleep(3) # 웹 페이지 로드 웨이팅\n",
    "html = driver.page_source\n",
    "soup = BeautifulSoup(html)"
   ]
  },
  {
   "cell_type": "code",
   "execution_count": 18,
   "metadata": {},
   "outputs": [],
   "source": [
    "dt_now = datetime.datetime.now()\n",
    "time = dt_now.date()\n",
    "\n",
    "dummy = soup.select('.news_list_.default_font.color_light_gray.font_12')\n",
    "mainList = []\n",
    "num = 1\n",
    "for i in dummy :\n",
    "    tmp = []\n",
    "    try :\n",
    "        date = time\n",
    "    except Exception as e :\n",
    "        continue\n",
    "    title = i.select_one('.news_list_title.color_depp_gray.font_limit > a').text\n",
    "    link = i.select_one('.news_list_title.color_depp_gray.font_limit > a')[\"href\"]\n",
    "    exp = i.select_one('.news_list_summary > a').text\n",
    "    \n",
    "    tmp.append(\"%d\" %num)\n",
    "    tmp.append(date) # 오름차순 정렬해서 출력하기\n",
    "    # 다음페이지 \n",
    "    tmp.append(title)\n",
    "    tmp.append('https://www.ciokorea.com'+link)\n",
    "    tmp.append(exp)\n",
    "    mainList.append(tmp)\n",
    "    num += 1\n",
    "\n",
    "# 검색어명으로 저장하기\n",
    "with open('CIO Korea 주요기사 ' + str(time) + '.xlsx', 'w', encoding='utf-8', newline='') as f :\n",
    "    writer = csv.writer(f)\n",
    "    writer.writerow(['CIO Korea 주요기사'])\n",
    "    writer.writerow(['순서','날짜','제목','링크','내용'])\n",
    "    writer.writerows(mainList)"
   ]
  },
  {
   "cell_type": "code",
   "execution_count": null,
   "metadata": {},
   "outputs": [],
   "source": []
  }
 ],
 "metadata": {
  "kernelspec": {
   "display_name": "Python 3",
   "language": "python",
   "name": "python3"
  },
  "language_info": {
   "codemirror_mode": {
    "name": "ipython",
    "version": 3
   },
   "file_extension": ".py",
   "mimetype": "text/x-python",
   "name": "python",
   "nbconvert_exporter": "python",
   "pygments_lexer": "ipython3",
   "version": "3.8.5"
  }
 },
 "nbformat": 4,
 "nbformat_minor": 4
}
