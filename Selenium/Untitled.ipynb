{
 "cells": [
  {
   "cell_type": "code",
   "execution_count": 2,
   "metadata": {},
   "outputs": [
    {
     "name": "stdout",
     "output_type": "stream",
     "text": [
      "Collecting selenium\n",
      "  Downloading selenium-3.141.0-py2.py3-none-any.whl (904 kB)\n",
      "Requirement already satisfied: urllib3 in c:\\users\\topgu\\anaconda3\\lib\\site-packages (from selenium) (1.25.9)\n",
      "Installing collected packages: selenium\n",
      "Successfully installed selenium-3.141.0\n"
     ]
    }
   ],
   "source": [
    "!pip install selenium"
   ]
  },
  {
   "cell_type": "code",
   "execution_count": 12,
   "metadata": {
    "scrolled": true
   },
   "outputs": [
    {
     "data": {
      "text/plain": [
       "'\\nassert \"Python\" in driver.title\\n\\nelem.clear()\\n\\nelem.send_keys(Keys.RETURN)\\nassert \"No results found.\" not in driver.page_source\\ndriver.close()\\n'"
      ]
     },
     "execution_count": 12,
     "metadata": {},
     "output_type": "execute_result"
    }
   ],
   "source": [
    "from selenium import webdriver # 셀레니움 불러오기\n",
    "from selenium.webdriver.common.keys import Keys\n",
    "\n",
    "driver = webdriver.Chrome() # 불러온 webdriver를 통해 다운받은 Chrome드라이버 불러와서 driver변수에 저장\n",
    "driver.get(\"https://www.google.co.kr/imghp?hl=ko&tab=wi&ogbl\") #구글 이미지 검색 주소를 삽입\n",
    "elem = driver.find_element_by_name(\"q\") # 검색창 태그 찾기\n",
    "elem.send_keys(\"pycon\") # 검색창에 키워드 입력하기\n",
    "elem.send_keys(Keys.RETURN) # 검색창 enter 누르기\n",
    "\n",
    "'''\n",
    "assert \"Python\" in driver.title\n",
    "\n",
    "elem.clear()\n",
    "\n",
    "\n",
    "assert \"No results found.\" not in driver.page_source\n",
    "driver.close()\n",
    "'''"
   ]
  },
  {
   "cell_type": "code",
   "execution_count": null,
   "metadata": {},
   "outputs": [],
   "source": []
  }
 ],
 "metadata": {
  "kernelspec": {
   "display_name": "Python 3",
   "language": "python",
   "name": "python3"
  },
  "language_info": {
   "codemirror_mode": {
    "name": "ipython",
    "version": 3
   },
   "file_extension": ".py",
   "mimetype": "text/x-python",
   "name": "python",
   "nbconvert_exporter": "python",
   "pygments_lexer": "ipython3",
   "version": "3.8.3"
  }
 },
 "nbformat": 4,
 "nbformat_minor": 4
}
