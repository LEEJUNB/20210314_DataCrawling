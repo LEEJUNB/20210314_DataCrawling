{
 "cells": [
  {
   "cell_type": "code",
   "execution_count": 2,
   "metadata": {},
   "outputs": [
    {
     "name": "stdout",
     "output_type": "stream",
     "text": [
      "Collecting selenium\n",
      "  Downloading selenium-3.141.0-py2.py3-none-any.whl (904 kB)\n",
      "Requirement already satisfied: urllib3 in c:\\users\\topgu\\anaconda3\\lib\\site-packages (from selenium) (1.25.9)\n",
      "Installing collected packages: selenium\n",
      "Successfully installed selenium-3.141.0\n"
     ]
    }
   ],
   "source": [
    "!pip install selenium # 셀레니움 설치"
   ]
  },
  {
   "cell_type": "code",
   "execution_count": 24,
   "metadata": {
    "scrolled": true
   },
   "outputs": [
    {
     "data": {
      "text/plain": [
       "'\\nassert \"Python\" in driver.title\\n\\nelem.clear()\\n\\n\\nassert \"No results found.\" not in driver.page_source\\ndriver.close()\\n'"
      ]
     },
     "execution_count": 24,
     "metadata": {},
     "output_type": "execute_result"
    }
   ],
   "source": [
    "from selenium import webdriver # 셀레니움 불러오기\n",
    "from selenium.webdriver.common.keys import Keys\n",
    "import time # 지연시간\n",
    "import urllib.request # img url down\n",
    "\n",
    "driver = webdriver.Chrome() # 불러온 webdriver를 통해 다운받은 Chrome드라이버 불러와서 driver변수에 저장\n",
    "driver.get(\"https://www.google.co.kr/imghp?hl=ko&tab=wi&ogbl\") #구글 이미지 검색 주소를 삽입\n",
    "elem = driver.find_element_by_name(\"q\") # 검색창 태그 찾기\n",
    "# elem.clear()                            #디폴트값을 지워줌\n",
    "elem.send_keys(\"py\") # 검색창에 키워드 입력하기\n",
    "elem.send_keys(Keys.RETURN) # 검색창 enter 누르기\n",
    "\n",
    "# 여러개의 이미지 중 첫번째 선택해서 클릭하기. 클래스 네임 기준.\n",
    "driver.find_elements_by_css_selector(\".rg_i.Q4LuWd\")[5].click()\n",
    "\n",
    "# 이미지를 클릭한 뒤 대기시간 주기\n",
    "time.sleep(3)\n",
    "\n",
    "# 이미지 주소(src) 다운받기\n",
    "img = driver.find_elements_by_css_selector(\".n3VNCb\")\n",
    "for i in img :\n",
    "    imgUrl = i.get_attribute(\"src\")\n",
    "\n",
    "urllib.request.urlretrieve(imgUrl, \"저장하고픈이름.jpg\")    \n",
    "                         \n",
    "'''\n",
    "assert \"Python\" in driver.title\n",
    "\n",
    "elem.clear()\n",
    "\n",
    "\n",
    "assert \"No results found.\" not in driver.page_source #검색이 제대로 되었는지 확인\n",
    "driver.close() #브라우저를 종료한다.\n",
    "'''"
   ]
  },
  {
   "cell_type": "code",
   "execution_count": null,
   "metadata": {},
   "outputs": [],
   "source": []
  }
 ],
 "metadata": {
  "kernelspec": {
   "display_name": "Python 3",
   "language": "python",
   "name": "python3"
  },
  "language_info": {
   "codemirror_mode": {
    "name": "ipython",
    "version": 3
   },
   "file_extension": ".py",
   "mimetype": "text/x-python",
   "name": "python",
   "nbconvert_exporter": "python",
   "pygments_lexer": "ipython3",
   "version": "3.8.5"
  }
 },
 "nbformat": 4,
 "nbformat_minor": 4
}
