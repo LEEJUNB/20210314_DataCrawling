{
 "cells": [
  {
   "cell_type": "markdown",
   "metadata": {},
   "source": [
    "# 울산정보산업진흥원 채용정보\n",
    "- 공고날짜\n",
    "- 공고글\n",
    "- 공고링크\n",
    "\n",
    "## 추가사항\n",
    "- 파일명을 수집한 자료의 타이틀로지정"
   ]
  },
  {
   "cell_type": "code",
   "execution_count": 2,
   "metadata": {},
   "outputs": [],
   "source": [
    "from urllib.request import urlopen\n",
    "from urllib.parse import quote_plus as qp # 아스키코드로 변환\n",
    "from bs4 import BeautifulSoup\n",
    "from selenium import webdriver # \n",
    "import time\n",
    "import csv"
   ]
  },
  {
   "cell_type": "code",
   "execution_count": 3,
   "metadata": {},
   "outputs": [],
   "source": [
    "url = \"https://www.uipa.or.kr/webuser/recruit/list.html\"\n",
    "driver = webdriver.Chrome()\n",
    "driver.get(url)\n",
    "time.sleep(3) # 웹 페이지 로드 웨이팅\n",
    "html = driver.page_source\n",
    "soup = BeautifulSoup(html)"
   ]
  },
  {
   "cell_type": "code",
   "execution_count": 11,
   "metadata": {},
   "outputs": [
    {
     "name": "stdout",
     "output_type": "stream",
     "text": [
      "[<table border=\"1\" class=\"list_table\">\n",
      "<colgroup>\n",
      "<col class=\"m_hidden\" width=\"60\"/>\n",
      "<!-- 분류 -->\n",
      "<col width=\"*\"/>\n",
      "<col width=\"100\"/>\n",
      "<col class=\"m_hidden\" width=\"80\"/>\n",
      "<col width=\"60\"/><!-- 상태 -->\n",
      "</colgroup>\n",
      "<thead>\n",
      "<tr>\n",
      "<th class=\"m_hidden\">번호</th>\n",
      "<!-- 분류 -->\n",
      "<th>제목</th>\n",
      "<th>날짜</th>\n",
      "<th class=\"m_hidden\">조회수</th>\n",
      "<th>상태</th><!-- 상태 -->\n",
      "</tr>\n",
      "</thead>\n",
      "<tbody>\n",
      "<tr class=\"list_tr_0\">\n",
      "<td class=\"no m_hidden\">129</td>\n",
      "<td class=\"subject\">\n",
      "<a href=\"./view.html?bd_id=6991&amp;page=1\">(재)울산정보산업진흥원 3차 직원 채용 공고</a>\n",
      "<img alt=\"첨부파일\" src=\"https://www.uipa.or.kr/webuser/img/ico_file.png\"/> </td>\n",
      "<td>2021.04.29</td>\n",
      "<td class=\"m_hidden\">766</td>\n",
      "<td class=\"state\"><strong class=\"bd_state_P\">진행</strong></td> </tr>\n",
      "<tr class=\"list_tr_1\">\n",
      "<td class=\"no m_hidden\">128</td>\n",
      "<td class=\"subject\">\n",
      "<a href=\"./view.html?bd_id=6802&amp;page=1\">(재)울산정보산업진흥원 2차 직원 채용 최종합격자 공고</a>\n",
      "<img alt=\"첨부파일\" src=\"https://www.uipa.or.kr/webuser/img/ico_file.png\"/> </td>\n",
      "<td>2021.03.31</td>\n",
      "<td class=\"m_hidden\">525</td>\n",
      "<td class=\"state\"><strong class=\"bd_state_E\">종료</strong></td> </tr>\n",
      "<tr class=\"list_tr_0\">\n",
      "<td class=\"no m_hidden\">127</td>\n",
      "<td class=\"subject\">\n",
      "<a href=\"./view.html?bd_id=6769&amp;page=1\">(재)울산정보산업진흥원 2차 직원 채용 면접전형 합격자 공고</a>\n",
      "<img alt=\"첨부파일\" src=\"https://www.uipa.or.kr/webuser/img/ico_file.png\"/> </td>\n",
      "<td>2021.03.25</td>\n",
      "<td class=\"m_hidden\">622</td>\n",
      "<td class=\"state\"><strong class=\"bd_state_E\">종료</strong></td> </tr>\n",
      "<tr class=\"list_tr_1\">\n",
      "<td class=\"no m_hidden\">126</td>\n",
      "<td class=\"subject\">\n",
      "<a href=\"./view.html?bd_id=6749&amp;page=1\">(재)울산정보산업진흥원 1차 직원 채용 최종합격자 공고</a>\n",
      "<img alt=\"첨부파일\" src=\"https://www.uipa.or.kr/webuser/img/ico_file.png\"/> </td>\n",
      "<td>2021.03.19</td>\n",
      "<td class=\"m_hidden\">516</td>\n",
      "<td class=\"state\"><strong class=\"bd_state_E\">종료</strong></td> </tr>\n",
      "<tr class=\"list_tr_0\">\n",
      "<td class=\"no m_hidden\">125</td>\n",
      "<td class=\"subject\">\n",
      "<a href=\"./view.html?bd_id=6744&amp;page=1\">(재)울산정보산업진흥원 2차 직원 채용 필기전형 합격자 및 면접전형 공고</a>\n",
      "<img alt=\"첨부파일\" src=\"https://www.uipa.or.kr/webuser/img/ico_file.png\"/> </td>\n",
      "<td>2021.03.19</td>\n",
      "<td class=\"m_hidden\">502</td>\n",
      "<td class=\"state\"><strong class=\"bd_state_E\">종료</strong></td> </tr>\n",
      "<tr class=\"list_tr_1\">\n",
      "<td class=\"no m_hidden\">124</td>\n",
      "<td class=\"subject\">\n",
      "<a href=\"./view.html?bd_id=6709&amp;page=1\">(재)울산정보산업진흥원 2차 직원 채용 서류전형 합격자 및 필기전형 공고</a>\n",
      "<img alt=\"첨부파일\" src=\"https://www.uipa.or.kr/webuser/img/ico_file.png\"/> </td>\n",
      "<td>2021.03.12</td>\n",
      "<td class=\"m_hidden\">433</td>\n",
      "<td class=\"state\"><strong class=\"bd_state_E\">종료</strong></td> </tr>\n",
      "<tr class=\"list_tr_0\">\n",
      "<td class=\"no m_hidden\">123</td>\n",
      "<td class=\"subject\">\n",
      "<a href=\"./view.html?bd_id=6697&amp;page=1\">(재)울산정보산업진흥원 1차 직원 채용 면접전형 합격자 공고</a>\n",
      "<img alt=\"첨부파일\" src=\"https://www.uipa.or.kr/webuser/img/ico_file.png\"/> </td>\n",
      "<td>2021.03.11</td>\n",
      "<td class=\"m_hidden\">357</td>\n",
      "<td class=\"state\"><strong class=\"bd_state_E\">종료</strong></td> </tr>\n",
      "<tr class=\"list_tr_1\">\n",
      "<td class=\"no m_hidden\">122</td>\n",
      "<td class=\"subject\">\n",
      "<a href=\"./view.html?bd_id=6644&amp;page=1\">(재)울산정보산업진흥원 1차 직원 채용 서류전형 합격자 및 면접전형 공고</a>\n",
      "<img alt=\"첨부파일\" src=\"https://www.uipa.or.kr/webuser/img/ico_file.png\"/> </td>\n",
      "<td>2021.03.05</td>\n",
      "<td class=\"m_hidden\">501</td>\n",
      "<td class=\"state\"><strong class=\"bd_state_E\">종료</strong></td> </tr>\n",
      "<tr class=\"list_tr_0\">\n",
      "<td class=\"no m_hidden\">121</td>\n",
      "<td class=\"subject\">\n",
      "<a href=\"./view.html?bd_id=6495&amp;page=1\">(재)울산정보산업진흥원 2차 직원 채용 공고</a>\n",
      "<img alt=\"첨부파일\" src=\"https://www.uipa.or.kr/webuser/img/ico_file.png\"/> </td>\n",
      "<td>2021.02.17</td>\n",
      "<td class=\"m_hidden\">1,574</td>\n",
      "<td class=\"state\"><strong class=\"bd_state_E\">종료</strong></td> </tr>\n",
      "<tr class=\"list_tr_1\">\n",
      "<td class=\"no m_hidden\">120</td>\n",
      "<td class=\"subject\">\n",
      "<a href=\"./view.html?bd_id=6483&amp;page=1\">(재)울산정보산업진흥원 1차 직원 채용 공고</a>\n",
      "<img alt=\"첨부파일\" src=\"https://www.uipa.or.kr/webuser/img/ico_file.png\"/> </td>\n",
      "<td>2021.02.10</td>\n",
      "<td class=\"m_hidden\">1,228</td>\n",
      "<td class=\"state\"><strong class=\"bd_state_E\">종료</strong></td> </tr>\n",
      "</tbody>\n",
      "</table>]\n"
     ]
    }
   ],
   "source": [
    "dummy = soup.select('.list_table')\n",
    "print(dummy)"
   ]
  },
  {
   "cell_type": "code",
   "execution_count": null,
   "metadata": {},
   "outputs": [],
   "source": [
    "title = soup.select('.subject').text\n",
    "link = soup.select('.subject > a')[\"href\"]\n"
   ]
  },
  {
   "cell_type": "code",
   "execution_count": 9,
   "metadata": {},
   "outputs": [],
   "source": [
    "dummy = soup.select('.list_table')\n",
    "mainList = []\n",
    "num = 1\n",
    "for i in dummy :\n",
    "    tmp = []\n",
    "    \n",
    "    try :\n",
    "        date = i.select_one('#article > div.list > table > tbody > tr > td')\n",
    "    except Exception as e :\n",
    "        continue\n",
    "        \n",
    "    title = i.select_one('.subject').text\n",
    "    link = i.select_one('.subject > a')[\"href\"]\n",
    "    tmp.append(\"%d\" %num)\n",
    "    tmp.append(date) # 오름차순 정렬해서 출력하기\n",
    "    # 다음페이지 \n",
    "    tmp.append(title)\n",
    "    tmp.append('https://www.uipa.or.kr/webuser/recruit'+link)\n",
    "    mainList.append(tmp)\n",
    "    num += 1"
   ]
  },
  {
   "cell_type": "code",
   "execution_count": 10,
   "metadata": {},
   "outputs": [],
   "source": [
    "with open('울정진.csv', 'w', encoding='utf-8', newline='') as f :\n",
    "    writer = csv.writer(f)\n",
    "    writer.writerow(['순서','공고날짜','제목','링크',])\n",
    "    writer.writerows(mainList)"
   ]
  },
  {
   "cell_type": "code",
   "execution_count": null,
   "metadata": {},
   "outputs": [],
   "source": []
  }
 ],
 "metadata": {
  "kernelspec": {
   "display_name": "Python 3",
   "language": "python",
   "name": "python3"
  },
  "language_info": {
   "codemirror_mode": {
    "name": "ipython",
    "version": 3
   },
   "file_extension": ".py",
   "mimetype": "text/x-python",
   "name": "python",
   "nbconvert_exporter": "python",
   "pygments_lexer": "ipython3",
   "version": "3.8.5"
  }
 },
 "nbformat": 4,
 "nbformat_minor": 4
}
