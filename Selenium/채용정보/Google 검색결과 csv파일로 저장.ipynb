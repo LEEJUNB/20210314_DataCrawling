{
 "cells": [
  {
   "cell_type": "markdown",
   "metadata": {},
   "source": [
    "# 구글 검색결과 CSV파일로 저장하기\n",
    "- 순번\n",
    "- 공지날짜\n",
    "- 제목\n",
    "- 링크\n",
    "\n",
    "## 보완할 것\n",
    "- 다음페이지 자료 수집\n",
    "- 공지날짜 오름차순 정렬"
   ]
  },
  {
   "cell_type": "code",
   "execution_count": 1,
   "metadata": {},
   "outputs": [],
   "source": [
    "from urllib.request import urlopen\n",
    "from urllib.parse import quote_plus as qp # 아스키코드로 변환\n",
    "from bs4 import BeautifulSoup\n",
    "from selenium import webdriver # \n",
    "import time\n",
    "import csv"
   ]
  },
  {
   "cell_type": "code",
   "execution_count": 12,
   "metadata": {},
   "outputs": [
    {
     "name": "stdout",
     "output_type": "stream",
     "text": [
      "검색할 태그를 입력하세요 : utf-8\n"
     ]
    }
   ],
   "source": [
    "baseUrl = 'https://www.google.com/search?q='\n",
    "plusUrl = input('검색할 태그를 입력하세요 : ')\n",
    "url = baseUrl + qp(plusUrl)\n",
    "\n",
    "driver = webdriver.Chrome()\n",
    "driver.get(url)\n",
    "time.sleep(3) # 웹 페이지 로드 웨이팅\n",
    "html = driver.page_source\n",
    "soup = BeautifulSoup(html)"
   ]
  },
  {
   "cell_type": "code",
   "execution_count": 13,
   "metadata": {},
   "outputs": [],
   "source": [
    "dummy = soup.select('.tF2Cxc')\n",
    "mainList = []\n",
    "num = 1\n",
    "for i in dummy :\n",
    "    tmp = []\n",
    "    try :\n",
    "        date = i.select_one('.aCOpRe > span.f').text\n",
    "    except Exception as e :\n",
    "        continue\n",
    "    title = i.select_one('.LC20lb.DKV0Md').text\n",
    "    link = i.select_one('.yuRUbf > a')[\"href\"]\n",
    "    exp = i.select_one('.aCOpRe').text\n",
    "    tmp.append(\"%d\" %num)\n",
    "    tmp.append(date) # 오름차순 정렬해서 출력하기\n",
    "    # 다음페이지 \n",
    "    tmp.append(title)\n",
    "    tmp.append(link)\n",
    "    tmp.append(exp)\n",
    "    mainList.append(tmp)\n",
    "    num += 1\n",
    "\n",
    "# 검색어명으로 저장하기\n",
    "with open(plusUrl + '.csv', 'w', encoding='utf-8', newline='') as f :\n",
    "    writer = csv.writer(f)\n",
    "    writer.writerow(['순서','날짜','제목','링크','내용'])\n",
    "    writer.writerows(mainList)"
   ]
  },
  {
   "cell_type": "code",
   "execution_count": null,
   "metadata": {},
   "outputs": [],
   "source": []
  }
 ],
 "metadata": {
  "kernelspec": {
   "display_name": "Python 3",
   "language": "python",
   "name": "python3"
  },
  "language_info": {
   "codemirror_mode": {
    "name": "ipython",
    "version": 3
   },
   "file_extension": ".py",
   "mimetype": "text/x-python",
   "name": "python",
   "nbconvert_exporter": "python",
   "pygments_lexer": "ipython3",
   "version": "3.8.5"
  }
 },
 "nbformat": 4,
 "nbformat_minor": 4
}
