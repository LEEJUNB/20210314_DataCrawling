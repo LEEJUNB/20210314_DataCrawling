{
 "cells": [
  {
   "cell_type": "markdown",
   "metadata": {},
   "source": [
    "# 잡코리아 IT 분야 TOP100 \n",
    "## 보완할 것\n",
    "- 현재 1페이지까지(20위)만 수집가능 하므로 나머지 페이지도 수집할 수 있도록 변경할 것"
   ]
  },
  {
   "cell_type": "code",
   "execution_count": 17,
   "metadata": {},
   "outputs": [],
   "source": [
    "from urllib.request import urlopen\n",
    "from urllib.parse import quote_plus as qp # 아스키코드로 변환\n",
    "from bs4 import BeautifulSoup\n",
    "from selenium import webdriver # \n",
    "import time\n",
    "import csv\n",
    "import datetime"
   ]
  },
  {
   "cell_type": "code",
   "execution_count": 18,
   "metadata": {},
   "outputs": [],
   "source": [
    "url = 'https://www.jobkorea.co.kr/Top100/?Main_Career_Type=1&Search_Type=1&BizJobtype_Bctgr_Code=10016&BizJobtype_Bctgr_Name=IT%C2%B7%EC%9D%B8%ED%84%B0%EB%84%B7&BizJobtype_Code=0&BizJobtype_Name=IT%C2%B7%EC%9D%B8%ED%84%B0%EB%84%B7+%EC%A0%84%EC%B2%B4&Major_Big_Code=0&Major_Big_Name=%EC%A0%84%EC%B2%B4&Major_Code=0&Major_Name=%EC%A0%84%EC%B2%B4&Edu_Level_Code=9&Edu_Level_Name=%EC%A0%84%EC%B2%B4&Edu_Level_Name=%EC%A0%84%EC%B2%B4&MidScroll=0'\n",
    "\n",
    "driver = webdriver.Chrome()\n",
    "driver.get(url)\n",
    "time.sleep(3) # 웹 페이지 로드 웨이팅\n",
    "html = driver.page_source\n",
    "soup = BeautifulSoup(html)"
   ]
  },
  {
   "cell_type": "code",
   "execution_count": 20,
   "metadata": {},
   "outputs": [],
   "source": [
    "dt_now = datetime.datetime.now() # 현재 날짜\n",
    "time = dt_now.date()\n",
    "\n",
    "dummy = soup.select('.rankList > li')\n",
    "mainList = []\n",
    "num = 1\n",
    "for i in dummy :\n",
    "    tmp = []\n",
    "    try :\n",
    "        date = i.select_one('.day ').text\n",
    "    except Exception as e :\n",
    "        continue\n",
    "    \n",
    "    corp = i.select_one('.coLink > b').text # 회사명\n",
    "    link = i.select_one('.tit > a')[\"href\"] # 채용링크\n",
    "    title = i.select_one('.tit >a')[\"title\"] # 공고명\n",
    "    category = i.select_one('.sTit').text # 채용 직종\n",
    "    conditions = i.select_one('.sDsc').text # 채용 조건\n",
    "    \n",
    "    \n",
    "    \n",
    "    \n",
    "    tmp.append(\"%d\" %num)\n",
    "    tmp.append(date) # 오름차순 정렬해서 출력하기\n",
    "    # 다음페이지 \n",
    "    tmp.append(corp)\n",
    "    tmp.append('https://www.jobkorea.co.kr/'+link)\n",
    "    tmp.append(title)\n",
    "    tmp.append(category)\n",
    "    tmp.append(conditions)\n",
    "    \n",
    "    \n",
    "    mainList.append(tmp)\n",
    "    num += 1\n",
    "\n",
    "# 검색어명으로 저장하기\n",
    "with open(str(time) + ' 잡코리아 IT분야 Top100.csv', 'w', encoding='utf-8', newline='') as f :\n",
    "    writer = csv.writer(f)\n",
    "    writer.writerow(['순위','마감일자','회사명','링크','내용','채용직종','조건'])\n",
    "    writer.writerows(mainList)"
   ]
  },
  {
   "cell_type": "code",
   "execution_count": null,
   "metadata": {},
   "outputs": [],
   "source": []
  }
 ],
 "metadata": {
  "kernelspec": {
   "display_name": "Python 3",
   "language": "python",
   "name": "python3"
  },
  "language_info": {
   "codemirror_mode": {
    "name": "ipython",
    "version": 3
   },
   "file_extension": ".py",
   "mimetype": "text/x-python",
   "name": "python",
   "nbconvert_exporter": "python",
   "pygments_lexer": "ipython3",
   "version": "3.8.5"
  }
 },
 "nbformat": 4,
 "nbformat_minor": 4
}
