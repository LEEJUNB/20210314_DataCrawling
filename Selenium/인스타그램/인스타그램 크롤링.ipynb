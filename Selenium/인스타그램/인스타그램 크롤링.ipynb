{
 "cells": [
  {
   "cell_type": "code",
   "execution_count": 1,
   "metadata": {},
   "outputs": [
    {
     "name": "stdout",
     "output_type": "stream",
     "text": [
      "Requirement already satisfied: selenium in c:\\users\\jbe\\anaconda3\\lib\\site-packages (3.141.0)\n",
      "Requirement already satisfied: urllib3 in c:\\users\\jbe\\anaconda3\\lib\\site-packages (from selenium) (1.25.11)\n"
     ]
    }
   ],
   "source": [
    "!pip install selenium"
   ]
  },
  {
   "cell_type": "code",
   "execution_count": 2,
   "metadata": {},
   "outputs": [
    {
     "name": "stdout",
     "output_type": "stream",
     "text": [
      "Requirement already satisfied: beautifulsoup4 in c:\\users\\jbe\\anaconda3\\lib\\site-packages (4.9.3)\n",
      "Requirement already satisfied: soupsieve>1.2; python_version >= \"3.0\" in c:\\users\\jbe\\anaconda3\\lib\\site-packages (from beautifulsoup4) (2.0.1)\n"
     ]
    }
   ],
   "source": [
    "!pip install beautifulsoup4"
   ]
  },
  {
   "cell_type": "code",
   "execution_count": 7,
   "metadata": {},
   "outputs": [],
   "source": [
    "from urllib.request import urlopen\n",
    "from urllib.parse import quote_plus as qp # 아스키코드로 변환\n",
    "from bs4 import BeautifulSoup\n",
    "from selenium import webdriver # \n",
    "import time"
   ]
  },
  {
   "cell_type": "code",
   "execution_count": 17,
   "metadata": {},
   "outputs": [
    {
     "name": "stdout",
     "output_type": "stream",
     "text": [
      "검색할 태그를 입력하세요 : programmer\n",
      "https://www.instagram.com/p/COYgqdTDvx4/\n",
      "https://www.instagram.com/p/COYty4iAF39/\n",
      "https://www.instagram.com/p/COaANI-Amqo/\n",
      "https://www.instagram.com/p/COauH9igYAD/\n",
      "https://www.instagram.com/p/COaXQasgRrw/\n",
      "https://www.instagram.com/p/COaPJTXArDS/\n",
      "https://www.instagram.com/p/COarTXkNGTS/\n",
      "https://www.instagram.com/p/COYb9YrAXyk/\n",
      "https://www.instagram.com/p/COatgKpMDQK/\n",
      "https://www.instagram.com/p/CObykNEMelv/\n",
      "https://www.instagram.com/p/CObyihKlMT8/\n",
      "https://www.instagram.com/p/CObyhwGArja/\n",
      "https://www.instagram.com/p/CObya3mlRaF/\n",
      "https://www.instagram.com/p/CObyTtCgxsn/\n",
      "https://www.instagram.com/p/CObyQuSJIlr/\n",
      "https://www.instagram.com/p/CObyGN_F3vo/\n",
      "https://www.instagram.com/p/CObyFpXDrjJ/\n",
      "https://www.instagram.com/p/CObyBPxgQ-B/\n",
      "https://www.instagram.com/p/CObxjZyreX4/\n",
      "https://www.instagram.com/p/CObxkH6gNzR/\n",
      "https://www.instagram.com/p/CObxbToAKIr/\n",
      "https://www.instagram.com/p/CObxayBgtu0/\n",
      "https://www.instagram.com/p/CObxMiMguNJ/\n",
      "https://www.instagram.com/p/CObxFFVAmP0/\n",
      "https://www.instagram.com/p/CObxCWEgA3t/\n",
      "https://www.instagram.com/p/CObwo5JntTb/\n",
      "https://www.instagram.com/p/CObwoa8DSr6/\n",
      "https://www.instagram.com/p/CObwhhgDZyV/\n",
      "https://www.instagram.com/p/CObwLg9HPXN/\n",
      "https://www.instagram.com/p/CObvy68JQ41/\n",
      "https://www.instagram.com/p/CObvmTUBEgZ/\n",
      "https://www.instagram.com/p/CObvk5ENAzP/\n",
      "https://www.instagram.com/p/CObvUNCJw2g/\n"
     ]
    }
   ],
   "source": [
    "baseUrl = 'https://www.instagram.com/explore/tags/'\n",
    "plusUrl = input('검색할 태그를 입력하세요 : ')\n",
    "url = baseUrl + qp(plusUrl)\n",
    "\n",
    "driver = webdriver.Chrome()\n",
    "driver.get(url)\n",
    "time.sleep(3)\n",
    "html = driver.page_source\n",
    "soup = BeautifulSoup(html)\n",
    "\n",
    "insta = soup.select('.v1Nh3.kIKUG._bz0w') # 이미지 클래스명\n",
    "\n",
    "# 이미지 수집, 저장하기\n",
    "# 참고로, 이미지추가하는 스크롤 기능 미사용\n",
    "n = 1 # 이미지 순번\n",
    "for i in insta :\n",
    "    print('https://www.instagram.com'+i.a['href']) # a태그의 속성 href만 가져오기\n",
    "    imgUrl = i.select_one('.KL4Bh').img['src'] # 이미지가 속한 태그 > src태그만 가져오기\n",
    "    \n",
    "    # 이미지 저장하기\n",
    "    with urlopen(imgUrl) as f : \n",
    "        # 저장위치 : img폴더\n",
    "        # 파일명 : 검색어 + 순서, 확장자 : jpg, 이미지파일쓰기 : wb\n",
    "        with open('./img/' + plusUrl + str(n) + '.jpg', 'wb') as h :\n",
    "            img = f.read()\n",
    "            h.write(img)\n",
    "        n += 1\n",
    "    \n",
    "driver.close() # 작업완료후 웹드라이버 종료"
   ]
  },
  {
   "cell_type": "code",
   "execution_count": 9,
   "metadata": {},
   "outputs": [],
   "source": []
  },
  {
   "cell_type": "code",
   "execution_count": null,
   "metadata": {},
   "outputs": [],
   "source": []
  }
 ],
 "metadata": {
  "kernelspec": {
   "display_name": "Python 3",
   "language": "python",
   "name": "python3"
  },
  "language_info": {
   "codemirror_mode": {
    "name": "ipython",
    "version": 3
   },
   "file_extension": ".py",
   "mimetype": "text/x-python",
   "name": "python",
   "nbconvert_exporter": "python",
   "pygments_lexer": "ipython3",
   "version": "3.8.5"
  }
 },
 "nbformat": 4,
 "nbformat_minor": 4
}
